{
 "cells": [
  {
   "cell_type": "markdown",
   "source": [
    "# 1. 构建语料库"
   ],
   "metadata": {
    "collapsed": false
   },
   "id": "dbe3d116c7732e5c"
  },
  {
   "cell_type": "code",
   "source": [
    "sentences = [\n",
    "    [\"咖哥 喜欢 小冰\", \"<sos> KaGe likes XiaoBing\", \"KaGe likes XiaoBing <eos>\"],\n",
    "    [\"我 爱 学习 人工智能\", \"<sos> I love studying AI\", \"I love studying AI <eos>\"],\n",
    "    [\"深度学习 改变 世界\", \"<sos> DL changed the world\", \"DL changed the world <eos>\"],\n",
    "    [\"自然 语言 处理 很 强大\", \"<sos> NLP is so powerful\", \"NLP is so powerful <eos>\"],\n",
    "    [\"神经网络 非常 复杂\", \"<sos> Neural-Nets are complex\", \"Neural-Nets are complex <eos>\"]\n",
    "]\n",
    "word_list_cn, word_list_en = [], []\n",
    "for s in sentences:\n",
    "    word_list_cn.extend(s[0].split())\n",
    "    word_list_en.extend(s[1].split())\n",
    "    word_list_en.extend(s[2].split())\n",
    "word_list_cn = list(set(word_list_cn))\n",
    "word_list_en = list(set(word_list_en))\n",
    "\n",
    "word_2_idx_cn = {w: i for i, w in enumerate(word_list_cn)}\n",
    "word_2_idx_en = {w: i for i, w in enumerate(word_list_en)}\n",
    "\n",
    "idx_2_word_cn = {i: w for i, w in enumerate(word_list_cn)}\n",
    "idx_2_word_en = {i: w for i, w in enumerate(word_list_en)}\n",
    "\n",
    "voc_size_cn = len(word_list_cn)\n",
    "voc_size_en = len(word_list_en)\n",
    "\n",
    "print(f\"句子数量: {len(sentences)}\")\n",
    "print(f\"中文词汇表大小: {voc_size_cn}\")\n",
    "print(f\"英文词汇表大小: {voc_size_en}\")\n",
    "print(f\"中文词汇到索引: {word_2_idx_cn}\")\n",
    "print(f\"英文词汇到索引: {word_2_idx_en}\")"
   ],
   "metadata": {
    "collapsed": false,
    "ExecuteTime": {
     "end_time": "2024-03-14T08:28:59.063629Z",
     "start_time": "2024-03-14T08:28:59.057918Z"
    }
   },
   "id": "fedb8a46f2da7d0f",
   "execution_count": 21,
   "outputs": []
  },
  {
   "cell_type": "markdown",
   "source": [
    "# 2. 生成训练数据"
   ],
   "metadata": {
    "collapsed": false
   },
   "id": "a188b5df9a558937"
  },
  {
   "cell_type": "code",
   "source": [
    "import numpy as np\n",
    "import torch\n",
    "import random\n",
    "\n",
    "def make_data(sentences):\n",
    "    random_sentence = random.choice(sentences)\n",
    "    encoder_input = np.array([[word_2_idx_cn[w] for w in random_sentence[0].split()]])\n",
    "    decoder_input = np.array([[word_2_idx_en[w] for w in random_sentence[1].split()]])\n",
    "    target = np.array([[word_2_idx_en[w] for w in random_sentence[2].split()]])\n",
    "    encoder_input = torch.LongTensor(encoder_input)\n",
    "    decoder_input = torch.LongTensor(decoder_input)\n",
    "    target = torch.LongTensor(target)\n",
    "    return encoder_input, decoder_input, target\n",
    "\n",
    "encoder_input, decoder_input, target = make_data(sentences)"
   ],
   "metadata": {
    "collapsed": false,
    "ExecuteTime": {
     "end_time": "2024-03-14T08:28:59.078887Z",
     "start_time": "2024-03-14T08:28:59.075043Z"
    }
   },
   "id": "b63947d105c13804",
   "execution_count": 22,
   "outputs": []
  },
  {
   "cell_type": "markdown",
   "source": [
    "# 3. 定义编码器和解码器类"
   ],
   "metadata": {
    "collapsed": false
   },
   "id": "b7a4ed74f8450bef"
  },
  {
   "cell_type": "code",
   "source": [
    "import torch.nn as nn\n",
    "\n",
    "class Encoder(nn.Module):\n",
    "    def __init__(self, input_size, hidden_size):\n",
    "        super().__init__() \n",
    "        self.hidden_size = hidden_size\n",
    "        self.embedding  = nn.Embedding(input_size, hidden_size)\n",
    "        self.rnn = nn.RNN(hidden_size, hidden_size, batch_first=True)\n",
    "        \n",
    "    def forward(self, inputs, hidden):\n",
    "        embedded = self.embedding(inputs)\n",
    "        output, hidden = self.rnn(embedded, hidden)\n",
    "        return output, hidden\n",
    "    \n",
    "class Decoder(nn.Module):\n",
    "    \n",
    "    def __init__(self, hidden_size, output_size):\n",
    "        super().__init__()\n",
    "        self.hidden_size = hidden_size\n",
    "        self.embedding = nn.Embedding(output_size, hidden_size)\n",
    "        self.rnn = nn.RNN(hidden_size, hidden_size, batch_first=True)\n",
    "        self.out = nn.Linear(hidden_size, output_size)\n",
    "    \n",
    "    def forward(self, inputs, hidden):\n",
    "        embedded = self.embedding(inputs)\n",
    "        output, hidden = self.rnn(embedded, hidden)\n",
    "        output = self.out(output)\n",
    "        return output, hidden\n",
    " \n",
    "n_hidden = 128   \n",
    "encoder = Encoder(voc_size_cn, n_hidden)\n",
    "decoder = Decoder(n_hidden, voc_size_en)\n",
    "print(f\"编码器: {encoder}\")\n",
    "print(f\"解码器: {decoder}\")"
   ],
   "metadata": {
    "collapsed": false,
    "ExecuteTime": {
     "end_time": "2024-03-14T08:28:59.108577Z",
     "start_time": "2024-03-14T08:28:59.102087Z"
    }
   },
   "id": "6e33439c57f20c5b",
   "execution_count": 23,
   "outputs": []
  },
  {
   "cell_type": "markdown",
   "source": [
    "# 4. 定义 Seq2Seq 结构"
   ],
   "metadata": {
    "collapsed": false
   },
   "id": "3ccd604486256285"
  },
  {
   "cell_type": "code",
   "source": [
    "class Seq2Seq(nn.Module):\n",
    "    \n",
    "    def __init__(self, input_size, hidden_size, ouput_size):\n",
    "        super().__init__()\n",
    "        self.encoder = Encoder(input_size, hidden_size)\n",
    "        self.decoder = Decoder(hidden_size, ouput_size)\n",
    "    \n",
    "    def forward(self, enc_input, hidden, dec_input):\n",
    "        encoder_output, encoder_hidden = self.encoder(enc_input, hidden)\n",
    "        decoder_hidden = encoder_hidden\n",
    "        decoder_ouput, _ = self.decoder(dec_input, decoder_hidden)\n",
    "        return decoder_ouput\n",
    "    \n",
    "model = Seq2Seq(voc_size_cn, n_hidden, voc_size_en)\n",
    "print(f\"Seq2Seq 模型: {model}\")\n",
    "        "
   ],
   "metadata": {
    "collapsed": false,
    "ExecuteTime": {
     "end_time": "2024-03-14T08:28:59.125772Z",
     "start_time": "2024-03-14T08:28:59.120603Z"
    }
   },
   "id": "afa52d783474fbcf",
   "execution_count": 24,
   "outputs": []
  },
  {
   "cell_type": "markdown",
   "source": [
    "# 5. 训练 Seq2Seq"
   ],
   "metadata": {
    "collapsed": false
   },
   "id": "e1e8dbc953c64f3c"
  },
  {
   "cell_type": "code",
   "source": [
    "def train_seq2seq(model, creterion, optimizer, epochs):\n",
    "    for epoch in range(epochs):\n",
    "        encoder_input, decoder_input, target = make_data(sentences)\n",
    "        hidden = torch.zeros(1, encoder_input.size(0), n_hidden)\n",
    "        optimizer.zero_grad()\n",
    "        output = model(encoder_input, hidden, decoder_input)\n",
    "        loss = creterion(output.view(-1, voc_size_en), target.view(-1))\n",
    "        if (epoch + 1) % 100 == 0:\n",
    "            print(f\"Epoch: {epoch+1}, Loss: {loss:.6f}\")\n",
    "        loss.backward()\n",
    "        optimizer.step()\n",
    "\n",
    "epochs = 1000\n",
    "criterion = nn.CrossEntropyLoss()\n",
    "optimizer = torch.optim.Adam(model.parameters(), lr=0.001)\n",
    "train_seq2seq(model, criterion, optimizer, epochs)"
   ],
   "metadata": {
    "collapsed": false,
    "ExecuteTime": {
     "end_time": "2024-03-14T08:29:00.960677Z",
     "start_time": "2024-03-14T08:28:59.132434Z"
    }
   },
   "id": "50f16a407c0e39c7",
   "execution_count": 25,
   "outputs": []
  },
  {
   "cell_type": "markdown",
   "source": [
    "  # 6. 测试 Seq2Seq 架构\n",
    " "
   ],
   "metadata": {
    "collapsed": false
   },
   "id": "2bf694f7005a959b"
  },
  {
   "cell_type": "code",
   "source": [
    "def test_seq2seq(model, source_sentence):\n",
    "    encoder_input = np.array([[word_2_idx_cn[w] for w in source_sentence.split()]])\n",
    "    decoder_input = np.array([word_2_idx_en[\"<sos>\"]] + [word_2_idx_en[\"<eos>\"]]*(len(encoder_input[0])-1))\n",
    "    encoder_input = torch.LongTensor(encoder_input)\n",
    "    decoder_input = torch.LongTensor(decoder_input).unsqueeze(0)\n",
    "    hidden = torch.zeros(1, encoder_input.size(0), n_hidden)\n",
    "    predict = model(encoder_input, hidden, decoder_input)\n",
    "    predict = predict.data.max(2, keepdim=True)[1]\n",
    "    print(f\"{source_sentence} -> {[idx_2_word_en[n.item()] for n in predict.squeeze()]}\")\n",
    "\n",
    "test_seq2seq(model, \"咖哥 喜欢 小冰\")\n",
    "test_seq2seq(model, \"自然 语言 处理 很 强大\")"
   ],
   "metadata": {
    "collapsed": false,
    "ExecuteTime": {
     "end_time": "2024-03-14T08:29:00.966765Z",
     "start_time": "2024-03-14T08:29:00.961897Z"
    }
   },
   "id": "86f3de7577b7f8b4",
   "execution_count": 26,
   "outputs": []
  },
  {
   "cell_type": "code",
   "source": [],
   "metadata": {
    "collapsed": false,
    "ExecuteTime": {
     "end_time": "2024-03-14T08:29:00.969154Z",
     "start_time": "2024-03-14T08:29:00.967594Z"
    }
   },
   "id": "18b83aa50762c05e",
   "execution_count": 26,
   "outputs": []
  }
 ],
 "metadata": {
  "kernelspec": {
   "display_name": "Python 3",
   "language": "python",
   "name": "python3"
  },
  "language_info": {
   "codemirror_mode": {
    "name": "ipython",
    "version": 2
   },
   "file_extension": ".py",
   "mimetype": "text/x-python",
   "name": "python",
   "nbconvert_exporter": "python",
   "pygments_lexer": "ipython2",
   "version": "2.7.6"
  }
 },
 "nbformat": 4,
 "nbformat_minor": 5
}
