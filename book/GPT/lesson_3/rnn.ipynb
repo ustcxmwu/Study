{
 "cells": [
  {
   "cell_type": "code",
   "execution_count": null,
   "id": "initial_id",
   "metadata": {
    "collapsed": true
   },
   "outputs": [],
   "source": []
  },
  {
   "cell_type": "code",
   "outputs": [
    {
     "name": "stdout",
     "output_type": "stream",
     "text": [
      "词汇表: {'玩具': 0, '爸爸': 1, '喜欢': 2, '挨打': 3, '我': 4, '讨厌': 5, '爱': 6}\n",
      "词汇表大小: 7\n"
     ]
    }
   ],
   "source": [
    "sentences = [\n",
    "    \"我 喜欢 玩具\",\n",
    "    \"我 爱 爸爸\",\n",
    "    \"我 讨厌 挨打\" \n",
    "]\n",
    "word_list = list(set(\" \".join(sentences).split()))\n",
    "word_to_idx = {w: i for i, w in enumerate(word_list)}\n",
    "idx_to_word = {i: w for i, w in enumerate(word_list)}\n",
    "\n",
    "voc_size = len(word_list)\n",
    "print(f\"词汇表: {word_to_idx}\")\n",
    "print(f\"词汇表大小: {voc_size}\")"
   ],
   "metadata": {
    "collapsed": false,
    "ExecuteTime": {
     "end_time": "2024-03-14T06:54:00.261804Z",
     "start_time": "2024-03-14T06:54:00.246943Z"
    }
   },
   "id": "835f2ba2980e7045",
   "execution_count": 4
  },
  {
   "cell_type": "code",
   "outputs": [
    {
     "name": "stdout",
     "output_type": "stream",
     "text": [
      "输入批处理数据: tensor([[4, 6],\n",
      "        [4, 2]])\n",
      "输入批处理数据的原始词: [['我', '爱'], ['我', '喜欢']]\n",
      "目标批处理数据: tensor([1, 0])\n",
      "目标批处理数据的原始词: ['爸爸', '玩具']\n"
     ]
    }
   ],
   "source": [
    "import torch\n",
    "import random\n",
    "\n",
    "batch_size = 2\n",
    "\n",
    "\n",
    "def make_batch():\n",
    "    input_batch = []\n",
    "    ouput_batch = []\n",
    "    selected_sentences = random.sample(sentences, batch_size)\n",
    "    for sent in selected_sentences:\n",
    "        word = sent.split()\n",
    "        inp = [word_to_idx[w] for w in word[:-1]]\n",
    "        target = word_to_idx[word[-1]]\n",
    "        input_batch.append(inp)\n",
    "        ouput_batch.append(target)\n",
    "    input_batch = torch.LongTensor(input_batch)\n",
    "    ouput_batch = torch.LongTensor(ouput_batch)\n",
    "    return input_batch, ouput_batch\n",
    "\n",
    "\n",
    "input_batch, output_batch = make_batch()\n",
    "print(f\"输入批处理数据: {input_batch}\")\n",
    "\n",
    "input_words = []\n",
    "for input_idx in input_batch:\n",
    "    input_words.append([idx_to_word[idx.item()] for idx in input_idx])\n",
    "print(f\"输入批处理数据的原始词: {input_words}\")\n",
    "\n",
    "print(f\"目标批处理数据: {output_batch}\")\n",
    "target_words = [idx_to_word[idx.item()] for idx in output_batch]\n",
    "print(f\"目标批处理数据的原始词: {target_words}\")"
   ],
   "metadata": {
    "collapsed": false,
    "ExecuteTime": {
     "end_time": "2024-03-14T06:54:01.349130Z",
     "start_time": "2024-03-14T06:54:01.336310Z"
    }
   },
   "id": "1a537fe247ac9515",
   "execution_count": 5
  },
  {
   "cell_type": "code",
   "outputs": [
    {
     "name": "stdout",
     "output_type": "stream",
     "text": [
      "RNN 模型结构: NPLM(\n",
      "  (C): Embedding(7, 2)\n",
      "  (lstm): LSTM(2, 2, batch_first=True)\n",
      "  (linear): Linear(in_features=2, out_features=7, bias=True)\n",
      ")\n"
     ]
    }
   ],
   "source": [
    "import torch.nn as nn\n",
    "\n",
    "class NPLM(nn.Module):\n",
    "    \n",
    "    def __init__(self, voc_size, embedding_size, n_hidden):\n",
    "        super().__init__()\n",
    "        self.voc_size = voc_size\n",
    "        self.embedding_size = embedding_size\n",
    "        self.n_hidden = n_hidden\n",
    "        self.C = nn.Embedding(voc_size, embedding_size)\n",
    "        self.lstm = nn.LSTM(embedding_size, n_hidden, batch_first=True)\n",
    "        self.linear = nn.Linear(n_hidden, voc_size)\n",
    "    \n",
    "    def forward(self, X):\n",
    "        X = self.C(X)\n",
    "        lstm_out, _ = self.lstm(X)\n",
    "        output = self.linear(lstm_out[:, -1, :])\n",
    "        return output\n",
    "    \n",
    "embedding_size = 2\n",
    "n_hidden = 2\n",
    "rnn_model = NPLM(voc_size, embedding_size, n_hidden)\n",
    "print(f\"RNN 模型结构: {rnn_model}\")\n",
    "        "
   ],
   "metadata": {
    "collapsed": false,
    "ExecuteTime": {
     "end_time": "2024-03-14T06:59:09.878777Z",
     "start_time": "2024-03-14T06:59:09.855302Z"
    }
   },
   "id": "f58dbb1a46550146",
   "execution_count": 10
  },
  {
   "cell_type": "code",
   "outputs": [
    {
     "name": "stdout",
     "output_type": "stream",
     "text": [
      "Epoch: 1000, Loss: 0.000304\n",
      "Epoch: 2000, Loss: 0.000107\n",
      "Epoch: 3000, Loss: 0.000048\n",
      "Epoch: 4000, Loss: 0.000026\n",
      "Epoch: 5000, Loss: 0.000015\n"
     ]
    }
   ],
   "source": [
    "import torch.optim as optim\n",
    "\n",
    "criterion = nn.CrossEntropyLoss()\n",
    "optimizer = optim.Adam(rnn_model.parameters(), lr=0.1)\n",
    "for epoch in range(5000):\n",
    "    optimizer.zero_grad()\n",
    "    input_batch, target_batch = make_batch()\n",
    "    output = rnn_model(input_batch)\n",
    "    loss = criterion(output, target_batch)\n",
    "    if (epoch + 1) % 1000 == 0:\n",
    "        print(f\"Epoch: {epoch+1}, Loss: {loss:.6f}\")\n",
    "    loss.backward()\n",
    "    optimizer.step()"
   ],
   "metadata": {
    "collapsed": false,
    "ExecuteTime": {
     "end_time": "2024-03-14T06:59:13.695633Z",
     "start_time": "2024-03-14T06:59:10.923049Z"
    }
   },
   "id": "2a846e72138276aa",
   "execution_count": 11
  },
  {
   "cell_type": "code",
   "outputs": [
    {
     "name": "stdout",
     "output_type": "stream",
     "text": [
      "['我', '讨厌'] -> 爸爸\n",
      "['我', '喜欢'] -> 玩具\n"
     ]
    }
   ],
   "source": [
    "inputs = [[\"我\", \"讨厌\"], [\"我\", \"喜欢\"]]\n",
    "input_idx = [[word_to_idx[w] for w in sent] for  sent in inputs]\n",
    "input_batch = torch.LongTensor(input_batch)\n",
    "\n",
    "predict = rnn_model(input_batch).data.max(1)[1]\n",
    "predict_str = [idx_to_word[p.item()] for p in predict.squeeze()]\n",
    "for input_seq, pred in zip(inputs, predict_str):\n",
    "    print(f\"{input_seq} -> {pred}\")"
   ],
   "metadata": {
    "collapsed": false,
    "ExecuteTime": {
     "end_time": "2024-03-14T06:59:15.976564Z",
     "start_time": "2024-03-14T06:59:15.969026Z"
    }
   },
   "id": "f997273376d5cbdc",
   "execution_count": 12
  },
  {
   "cell_type": "code",
   "outputs": [],
   "source": [],
   "metadata": {
    "collapsed": false
   },
   "id": "1090e34844f10e14"
  }
 ],
 "metadata": {
  "kernelspec": {
   "display_name": "Python 3",
   "language": "python",
   "name": "python3"
  },
  "language_info": {
   "codemirror_mode": {
    "name": "ipython",
    "version": 2
   },
   "file_extension": ".py",
   "mimetype": "text/x-python",
   "name": "python",
   "nbconvert_exporter": "python",
   "pygments_lexer": "ipython2",
   "version": "2.7.6"
  }
 },
 "nbformat": 4,
 "nbformat_minor": 5
}
