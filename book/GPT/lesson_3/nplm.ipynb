{
 "cells": [
  {
   "cell_type": "markdown",
   "source": [
    "# 1. 构建实验语料库"
   ],
   "metadata": {
    "collapsed": false
   },
   "id": "22176958a7c20303"
  },
  {
   "cell_type": "code",
   "execution_count": 1,
   "id": "initial_id",
   "metadata": {
    "collapsed": true,
    "ExecuteTime": {
     "end_time": "2024-03-14T06:29:42.376380Z",
     "start_time": "2024-03-14T06:29:42.369692Z"
    }
   },
   "outputs": [
    {
     "name": "stdout",
     "output_type": "stream",
     "text": [
      "词汇表: {'讨厌': 0, '喜欢': 1, '爱': 2, '我': 3, '玩具': 4, '爸爸': 5, '挨打': 6}\n",
      "词汇表大小: 7\n"
     ]
    }
   ],
   "source": [
    "sentences = [\n",
    "    \"我 喜欢 玩具\",\n",
    "    \"我 爱 爸爸\",\n",
    "    \"我 讨厌 挨打\" \n",
    "]\n",
    "word_list = list(set(\" \".join(sentences).split()))\n",
    "word_to_idx = {w: i for i, w in enumerate(word_list)}\n",
    "idx_to_word = {i: w for i, w in enumerate(word_list)}\n",
    "\n",
    "voc_size = len(word_list)\n",
    "print(f\"词汇表: {word_to_idx}\")\n",
    "print(f\"词汇表大小: {voc_size}\")"
   ]
  },
  {
   "cell_type": "markdown",
   "source": [
    "# 2. 生成 NPLM 训练数据"
   ],
   "metadata": {
    "collapsed": false
   },
   "id": "32b1feffb5d921cb"
  },
  {
   "cell_type": "code",
   "outputs": [],
   "source": [
    "import torch\n",
    "import random\n",
    "batch_size = 2\n",
    "def make_batch():\n",
    "    input_batch = []\n",
    "    ouput_batch = []\n",
    "    selected_sentences = random.sample(sentences, batch_size)\n",
    "    for sent in selected_sentences:\n",
    "        word = sent.split()\n",
    "        inp = [word_to_idx[w] for w in word[:-1]]\n",
    "        target = word_to_idx[word[-1]]\n",
    "        input_batch.append(inp)\n",
    "        ouput_batch.append(target)\n",
    "    input_batch = torch.LongTensor(input_batch)\n",
    "    ouput_batch = torch.LongTensor(ouput_batch)\n",
    "    return input_batch, ouput_batch\n"
   ],
   "metadata": {
    "collapsed": false,
    "ExecuteTime": {
     "end_time": "2024-03-14T06:29:43.206838Z",
     "start_time": "2024-03-14T06:29:42.377920Z"
    }
   },
   "id": "ebd324aba9a9a37f",
   "execution_count": 2
  },
  {
   "cell_type": "code",
   "outputs": [
    {
     "name": "stdout",
     "output_type": "stream",
     "text": [
      "输入批处理数据: tensor([[3, 2],\n",
      "        [3, 0]])\n",
      "输入批处理数据的原始词: [['我', '爱'], ['我', '讨厌']]\n",
      "目标批处理数据: tensor([5, 6])\n",
      "目标批处理数据的原始词: ['爸爸', '挨打']\n"
     ]
    }
   ],
   "source": [
    "input_batch, output_batch = make_batch()\n",
    "print(f\"输入批处理数据: {input_batch}\")\n",
    "\n",
    "input_words = []\n",
    "for input_idx in input_batch:\n",
    "    input_words.append([idx_to_word[idx.item()] for idx in input_idx])\n",
    "print(f\"输入批处理数据的原始词: {input_words}\")\n",
    "\n",
    "print(f\"目标批处理数据: {output_batch}\")\n",
    "target_words = [idx_to_word[idx.item()] for idx in output_batch]\n",
    "print(f\"目标批处理数据的原始词: {target_words}\")"
   ],
   "metadata": {
    "collapsed": false,
    "ExecuteTime": {
     "end_time": "2024-03-14T06:29:43.212849Z",
     "start_time": "2024-03-14T06:29:43.208081Z"
    }
   },
   "id": "4514457ba70c9457",
   "execution_count": 3
  },
  {
   "cell_type": "markdown",
   "source": [
    "# 3. 定义 NPLM"
   ],
   "metadata": {
    "collapsed": false
   },
   "id": "4df4bc2b3081f56e"
  },
  {
   "cell_type": "markdown",
   "source": [],
   "metadata": {
    "collapsed": false
   },
   "id": "621b2405f4a0ffb7"
  },
  {
   "cell_type": "code",
   "outputs": [],
   "source": [
    "import torch.nn as nn\n",
    "\n",
    "class NPLM(nn.Module):\n",
    "    def __init__(self, n_step, voc_size, embedding_size, n_hidden):\n",
    "        super().__init__()\n",
    "        self.n_step = n_step\n",
    "        self.voc_size = voc_size\n",
    "        self.embedding_size = embedding_size\n",
    "        self.n_hidden = n_hidden\n",
    "        self.C = nn.Embedding(voc_size, embedding_size)\n",
    "        self.linear1 = nn.Linear(n_step*embedding_size, n_hidden)\n",
    "        self.linear2 = nn.Linear(n_hidden, voc_size)\n",
    "    \n",
    "    def forward(self, X):\n",
    "        X = self.C(X)\n",
    "        X = X.view(-1, self.n_step * self.embedding_size)\n",
    "        hidden = torch.tanh(self.linear1(X))\n",
    "        output = self.linear2(hidden)\n",
    "        return output"
   ],
   "metadata": {
    "collapsed": false,
    "ExecuteTime": {
     "end_time": "2024-03-14T06:29:43.217557Z",
     "start_time": "2024-03-14T06:29:43.213962Z"
    }
   },
   "id": "9f3fadf0e6b8b52a",
   "execution_count": 4
  },
  {
   "cell_type": "markdown",
   "source": [
    "# 4. 实例化 NPLM"
   ],
   "metadata": {
    "collapsed": false
   },
   "id": "d6fb8789c4f3d321"
  },
  {
   "cell_type": "code",
   "outputs": [
    {
     "name": "stdout",
     "output_type": "stream",
     "text": [
      "MPLM Model: NPLM(\n",
      "  (C): Embedding(7, 2)\n",
      "  (linear1): Linear(in_features=4, out_features=2, bias=True)\n",
      "  (linear2): Linear(in_features=2, out_features=7, bias=True)\n",
      ")\n"
     ]
    }
   ],
   "source": [
    "n_step = 2\n",
    "n_hidden = 2\n",
    "embedding_size = 2\n",
    "model = NPLM(n_step, voc_size, embedding_size, n_hidden)\n",
    "print(f\"MPLM Model: {model}\")"
   ],
   "metadata": {
    "collapsed": false,
    "ExecuteTime": {
     "end_time": "2024-03-14T06:29:43.224074Z",
     "start_time": "2024-03-14T06:29:43.219621Z"
    }
   },
   "id": "7c604141341a7a0e",
   "execution_count": 5
  },
  {
   "cell_type": "markdown",
   "source": [
    "# 5. 训练模型"
   ],
   "metadata": {
    "collapsed": false
   },
   "id": "867f14847206f29"
  },
  {
   "cell_type": "code",
   "outputs": [
    {
     "name": "stdout",
     "output_type": "stream",
     "text": [
      "Epoch: 1000, Loss: 0.000629\n",
      "Epoch: 2000, Loss: 0.000186\n",
      "Epoch: 3000, Loss: 0.000093\n",
      "Epoch: 4000, Loss: 0.000048\n",
      "Epoch: 5000, Loss: 0.000036\n"
     ]
    }
   ],
   "source": [
    "import torch.optim as optim\n",
    "\n",
    "criterion = nn.CrossEntropyLoss()\n",
    "optimizer = optim.Adam(model.parameters(), lr=0.1)\n",
    "for epoch in range(5000):\n",
    "    optimizer.zero_grad()\n",
    "    input_batch, target_batch = make_batch()\n",
    "    output = model(input_batch)\n",
    "    loss = criterion(output, target_batch)\n",
    "    if (epoch + 1) % 1000 == 0:\n",
    "        print(f\"Epoch: {epoch+1}, Loss: {loss:.6f}\")\n",
    "    loss.backward()\n",
    "    optimizer.step()"
   ],
   "metadata": {
    "collapsed": false,
    "ExecuteTime": {
     "end_time": "2024-03-14T06:29:44.552868Z",
     "start_time": "2024-03-14T06:29:43.224697Z"
    }
   },
   "id": "c2766fe28a96f410",
   "execution_count": 6
  },
  {
   "cell_type": "markdown",
   "source": [
    "# 6. 预测"
   ],
   "metadata": {
    "collapsed": false
   },
   "id": "8d7c7de364e80bec"
  },
  {
   "cell_type": "code",
   "outputs": [
    {
     "name": "stdout",
     "output_type": "stream",
     "text": [
      "['我', '讨厌'] -> 玩具\n",
      "['我', '喜欢'] -> 挨打\n"
     ]
    }
   ],
   "source": [
    "inputs = [[\"我\", \"讨厌\"], [\"我\", \"喜欢\"]]\n",
    "input_idx = [[word_to_idx[w] for w in sent] for  sent in inputs]\n",
    "input_batch = torch.LongTensor(input_batch)\n",
    "\n",
    "predict = model(input_batch).data.max(1)[1]\n",
    "predict_str = [idx_to_word[p.item()] for p in predict.squeeze()]\n",
    "for input_seq, pred in zip(inputs, predict_str):\n",
    "    print(f\"{input_seq} -> {pred}\")"
   ],
   "metadata": {
    "collapsed": false,
    "ExecuteTime": {
     "end_time": "2024-03-14T06:29:44.560239Z",
     "start_time": "2024-03-14T06:29:44.553990Z"
    }
   },
   "id": "ed1c1b6d1b606717",
   "execution_count": 7
  },
  {
   "cell_type": "code",
   "outputs": [],
   "source": [],
   "metadata": {
    "collapsed": false,
    "ExecuteTime": {
     "end_time": "2024-03-14T06:29:44.562811Z",
     "start_time": "2024-03-14T06:29:44.561262Z"
    }
   },
   "id": "815949dde1c6aeb",
   "execution_count": 7
  }
 ],
 "metadata": {
  "kernelspec": {
   "display_name": "Python 3",
   "language": "python",
   "name": "python3"
  },
  "language_info": {
   "codemirror_mode": {
    "name": "ipython",
    "version": 2
   },
   "file_extension": ".py",
   "mimetype": "text/x-python",
   "name": "python",
   "nbconvert_exporter": "python",
   "pygments_lexer": "ipython2",
   "version": "2.7.6"
  }
 },
 "nbformat": 4,
 "nbformat_minor": 5
}
