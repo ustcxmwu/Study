{
 "cells": [
  {
   "cell_type": "markdown",
   "source": [
    "# 1. 多头自注意力 (包含残差连接和层归一化)"
   ],
   "metadata": {
    "collapsed": false
   },
   "id": "af31ec5f9bfd1030"
  },
  {
   "cell_type": "code",
   "outputs": [],
   "source": [
    "import numpy as np\n",
    "import torch\n",
    "import torch.nn as nn\n",
    "\n",
    "d_k = 64  # K, Q 维度\n",
    "d_v = 64  # V 维度\n",
    "\n",
    "\n",
    "class ScaledDotProductAttention(nn.Module):\n",
    "\n",
    "    def __init__(self):\n",
    "        super().__init__()\n",
    "\n",
    "    def forward(self, Q, K, V, attn_mask):\n",
    "        scores = torch.matmul(Q, K.transpose(-1, -2)) / np.sqrt(d_k)\n",
    "        scores.masked_fill_(attn_mask, -1e9)\n",
    "        weights = nn.Softmax(dim=-1)(scores)\n",
    "\n",
    "        context = torch.matmul(weights, V)\n",
    "        return context, weights\n",
    "\n",
    "\n",
    "\n"
   ],
   "metadata": {
    "collapsed": false,
    "ExecuteTime": {
     "end_time": "2024-03-28T06:43:02.659451Z",
     "start_time": "2024-03-28T06:42:56.143189Z"
    }
   },
   "id": "6a5b692e9c2ec016",
   "execution_count": 2
  },
  {
   "cell_type": "code",
   "outputs": [],
   "source": [
    "d_embedding = 512\n",
    "n_heads = 8\n",
    "batch_size = 3\n",
    "\n",
    "\n",
    "class MultiHeadAttention(nn.Module):\n",
    "    def __init__(self):\n",
    "        super().__init__()\n",
    "        self.W_Q = nn.Linear(d_embedding, d_k * n_heads)\n",
    "        self.W_K = nn.Linear(d_embedding, d_k * n_heads)\n",
    "        self.W_V = nn.Linear(d_embedding, d_v * n_heads)\n",
    "        self.linear = nn.Linear(n_heads * d_v, d_embedding)\n",
    "        self.layer_norm = nn.LayerNorm(d_embedding)\n",
    "\n",
    "    def forward(self, Q, K, V, attn_mask):\n",
    "        residual, batch_size = Q, Q.size(0)\n",
    "        q_s = self.W_Q(Q).view(batch_size, -1, n_heads, d_k).transpose(1, 2)\n",
    "        k_s = self.W_K(K).view(batch_size, -1, n_heads, d_k).transpose(1, 2)\n",
    "        v_s = self.W_V(V).view(batch_size, -1, n_heads, d_v).transpose(1, 2)\n",
    "        attn_mask = attn_mask.unsqueeze(1).repeat(1, n_heads, 1, 1)\n",
    "        context, weights = ScaledDotProductAttention()(q_s, k_s, v_s, attn_mask)\n",
    "        context = context.transpose(1, 2).contiguous().view(batch_size, -1, n_heads*d_v)\n",
    "        output = self.linear(context)\n",
    "        output = self.layer_norm(output + residual)\n",
    "        return output, weights\n",
    "\n",
    "\n"
   ],
   "metadata": {
    "collapsed": false,
    "ExecuteTime": {
     "end_time": "2024-03-28T06:43:54.580855Z",
     "start_time": "2024-03-28T06:43:54.573048Z"
    }
   },
   "id": "352c5fa29ed9cae7",
   "execution_count": 3
  },
  {
   "cell_type": "markdown",
   "source": [
    "# 2. 逐位置前馈网络(包含残差连接和层归一化)"
   ],
   "metadata": {
    "collapsed": false
   },
   "id": "cc572584c1e1e4cd"
  },
  {
   "cell_type": "code",
   "outputs": [],
   "source": [
    "class PoswiseFeedForwardNet(nn.Module):\n",
    "    def __init__(self, d_ff=2048):\n",
    "        super().__init__()\n",
    "        self.conv1 = nn.Conv1d(in_channels=d_embedding, out_channels=d_ff, kernel_size=1)\n",
    "        self.conv2 = nn.Conv1d(in_channels=d_ff, out_channels=d_embedding, kernel_size=1)\n",
    "        self.layer_norm = nn.LayerNorm(d_embedding)\n",
    "\n",
    "    def forward(self, inputs):\n",
    "        residual = inputs\n",
    "        output = nn.ReLU()(self.conv1(inputs.transpose(1, 2)))\n",
    "        output = self.conv2(output).transpose(1, 2)\n",
    "        output = self.layer_norm(output + residual)\n",
    "        return output"
   ],
   "metadata": {
    "collapsed": false,
    "ExecuteTime": {
     "end_time": "2024-03-28T06:43:55.945067Z",
     "start_time": "2024-03-28T06:43:55.924967Z"
    }
   },
   "id": "cd34ad0333c6fce5",
   "execution_count": 4
  },
  {
   "cell_type": "markdown",
   "source": [
    "# 3. 正弦位置编码表"
   ],
   "metadata": {
    "collapsed": false
   },
   "id": "541c96f0c04b873e"
  },
  {
   "cell_type": "code",
   "outputs": [],
   "source": [
    "def get_sin_enc_table(n_position, embedding_dim):\n",
    "    sinusoid_table = np.zeros((n_position, embedding_dim))\n",
    "    for pos_i in range(n_position):\n",
    "        for hid_j in range(embedding_dim):\n",
    "            angle = pos_i / np.power(10000, 2 * (hid_j // 2) / embedding_dim)\n",
    "            sinusoid_table[pos_i, hid_j] = angle\n",
    "    sinusoid_table[:, 0::2] = np.sin(sinusoid_table[:, 0::2])\n",
    "    sinusoid_table[:, 1::2] = np.cos(sinusoid_table[:, 1::2])\n",
    "    return torch.FloatTensor(sinusoid_table)\n"
   ],
   "metadata": {
    "collapsed": false,
    "ExecuteTime": {
     "end_time": "2024-03-28T06:43:57.428715Z",
     "start_time": "2024-03-28T06:43:57.424576Z"
    }
   },
   "id": "4701b5e3e752ff6d",
   "execution_count": 5
  },
  {
   "cell_type": "markdown",
   "source": [
    "# 4. 填充掩码"
   ],
   "metadata": {
    "collapsed": false
   },
   "id": "2be3927aebde3dc7"
  },
  {
   "cell_type": "code",
   "outputs": [],
   "source": [
    "def get_attn_pad_mask(seq_q, seq_k):\n",
    "    batch_size, len_q = seq_q.size()\n",
    "    batch_size, len_k = seq_k.size()\n",
    "    pad_attn_mask = seq_k.data.eq(0).unsqueeze(1)\n",
    "    pad_attn_mask = pad_attn_mask.expand(batch_size, len_q, len_k)\n",
    "    return pad_attn_mask\n"
   ],
   "metadata": {
    "collapsed": false,
    "ExecuteTime": {
     "end_time": "2024-03-28T06:43:59.050491Z",
     "start_time": "2024-03-28T06:43:59.047865Z"
    }
   },
   "id": "d731c6513c267692",
   "execution_count": 6
  },
  {
   "cell_type": "markdown",
   "source": [
    "# 5. 编码器层"
   ],
   "metadata": {
    "collapsed": false
   },
   "id": "801d2f79e4dc201c"
  },
  {
   "cell_type": "code",
   "outputs": [],
   "source": [
    "class EncoderLayer(nn.Module):\n",
    "    def __init__(self):\n",
    "        super().__init__()\n",
    "        self.enc_self_attn = MultiHeadAttention()\n",
    "        self.pos_ffn = PoswiseFeedForwardNet()\n",
    "\n",
    "    def forward(self, enc_inputs, enc_self_attn_mask):\n",
    "        enc_outputs, attn_weights = self.enc_self_attn(enc_inputs, enc_inputs, enc_inputs, enc_self_attn_mask)\n",
    "        enc_outputs = self.pos_ffn(enc_outputs)\n",
    "        return enc_outputs, attn_weights\n"
   ],
   "metadata": {
    "collapsed": false,
    "ExecuteTime": {
     "end_time": "2024-03-28T06:44:00.397562Z",
     "start_time": "2024-03-28T06:44:00.394021Z"
    }
   },
   "id": "726ad54697dcd27d",
   "execution_count": 7
  },
  {
   "cell_type": "markdown",
   "source": [
    "# 6. 编码器"
   ],
   "metadata": {
    "collapsed": false
   },
   "id": "9a4d676bd7cc3734"
  },
  {
   "cell_type": "code",
   "outputs": [],
   "source": [
    "n_layer = 6\n",
    "\n",
    "\n",
    "class Encoder(nn.Module):\n",
    "    def __init__(self, corpus):\n",
    "        super().__init__()\n",
    "        self.src_emb = nn.Embedding(len(corpus.src_vocab), d_embedding)\n",
    "        self.pos_emb = nn.Embedding.from_pretrained(get_sin_enc_table(corpus.src_len + 1, d_embedding), freeze=True)\n",
    "        self.layers = nn.ModuleList(EncoderLayer() for _ in range(n_layer))\n",
    "\n",
    "    def forward(self, enc_inputs):\n",
    "        pos_indices = torch.arange(1, enc_inputs.size(1) + 1).unsqueeze(0).to(enc_inputs)\n",
    "        enc_outputs = self.src_emb(enc_inputs) + self.pos_emb(pos_indices)\n",
    "        enc_self_attn_mask = get_attn_pad_mask(enc_inputs, enc_inputs)\n",
    "        enc_self_attn_weights = []\n",
    "        for layer in self.layers:\n",
    "            enc_outputs, enc_self_attn_weight = layer(enc_outputs, enc_self_attn_mask)\n",
    "            enc_self_attn_weights.append(enc_self_attn_weight)\n",
    "        return enc_outputs, enc_self_attn_weights"
   ],
   "metadata": {
    "collapsed": false,
    "ExecuteTime": {
     "end_time": "2024-03-28T06:44:01.756167Z",
     "start_time": "2024-03-28T06:44:01.752092Z"
    }
   },
   "id": "4691accd1f17b366",
   "execution_count": 8
  },
  {
   "cell_type": "markdown",
   "source": [
    "# 7. 后续掩码"
   ],
   "metadata": {
    "collapsed": false
   },
   "id": "290687241a66709d"
  },
  {
   "cell_type": "code",
   "outputs": [],
   "source": [
    "def get_attn_subsequent_mask(seq):\n",
    "    attn_shape = [seq.size(0), seq.size(1), seq.size(1)]\n",
    "    subsequent_mask = np.triu(np.ones(attn_shape), k=1)\n",
    "    subsequent_mask = torch.from_numpy(subsequent_mask).byte()\n",
    "    return subsequent_mask\n"
   ],
   "metadata": {
    "collapsed": false,
    "ExecuteTime": {
     "end_time": "2024-03-28T06:44:03.191873Z",
     "start_time": "2024-03-28T06:44:03.186332Z"
    }
   },
   "id": "a088074255115d9d",
   "execution_count": 9
  },
  {
   "cell_type": "markdown",
   "source": [
    "# 8. 解码器层"
   ],
   "metadata": {
    "collapsed": false
   },
   "id": "388da20fd9b226a2"
  },
  {
   "cell_type": "code",
   "outputs": [],
   "source": [
    "class DecoderLayer(nn.Module):\n",
    "    def __init__(self):\n",
    "        super().__init__()\n",
    "        self.dec_self_attn = MultiHeadAttention()\n",
    "        self.dec_enc_attn = MultiHeadAttention()\n",
    "        self.pos_ffn = PoswiseFeedForwardNet()\n",
    "\n",
    "    def forward(self, dec_inputs, enc_outputs, dec_self_attn_mask, dec_enc_attn_mask):\n",
    "        dec_outputs, dec_self_attn = self.dec_self_attn(dec_inputs, dec_inputs, dec_inputs, dec_self_attn_mask)\n",
    "        dec_outputs, dec_enc_attn = self.dec_enc_attn(dec_outputs, enc_outputs, enc_outputs, dec_enc_attn_mask)\n",
    "        dec_outputs = self.pos_ffn(dec_outputs)\n",
    "        return dec_outputs, dec_self_attn, dec_enc_attn"
   ],
   "metadata": {
    "collapsed": false,
    "ExecuteTime": {
     "end_time": "2024-03-28T06:44:04.174845Z",
     "start_time": "2024-03-28T06:44:04.162645Z"
    }
   },
   "id": "abc73a3cb28c2807",
   "execution_count": 10
  },
  {
   "cell_type": "markdown",
   "source": [
    "# 9. 解码器"
   ],
   "metadata": {
    "collapsed": false
   },
   "id": "fa2c987358c65001"
  },
  {
   "cell_type": "code",
   "outputs": [],
   "source": [
    "n_layer = 6\n",
    "\n",
    "\n",
    "class Decoder(nn.Module):\n",
    "    def __init__(self, corpus):\n",
    "        super().__init__()\n",
    "        self.tgt_emb = nn.Embedding(len(corpus.tgt_vocab), d_embedding)\n",
    "        self.pos_emb = nn.Embedding.from_pretrained(get_sin_enc_table(corpus.tgt_len + 1, d_embedding), freeze=True)\n",
    "        self.layers = nn.ModuleList(DecoderLayer() for _ in range(n_layer))\n",
    "\n",
    "    def forward(self, dec_inputs, enc_inputs, enc_outputs):\n",
    "        pos_indices = torch.arange(1, dec_inputs.size(1) + 1).unsqueeze(0).to(dec_inputs)\n",
    "        dec_outputs = self.tgt_emb(dec_inputs) + self.pos_emb(pos_indices)\n",
    "\n",
    "        dec_self_attn_pad_mask = get_attn_pad_mask(dec_inputs, dec_inputs)\n",
    "        dec_self_subsequent_mask = get_attn_subsequent_mask(dec_inputs)\n",
    "        dec_self_attn_mask = torch.gt((dec_self_attn_pad_mask + dec_self_subsequent_mask), 0)\n",
    "        dec_enc_attn_mask = get_attn_pad_mask(dec_inputs, enc_inputs)\n",
    "        dec_self_attns, dec_enc_attns = [], []\n",
    "        for layer in self.layers:\n",
    "            dec_outputs, dec_self_attn, dec_enc_attn = layer(dec_outputs, enc_outputs, dec_enc_attn_mask,\n",
    "                                                             dec_self_attn_mask)\n",
    "            dec_self_attns.append(dec_self_attn)\n",
    "            dec_enc_attns.append(dec_enc_attn)\n",
    "        return dec_outputs, dec_self_attns, dec_enc_attns\n"
   ],
   "metadata": {
    "collapsed": false,
    "ExecuteTime": {
     "end_time": "2024-03-28T06:44:05.206973Z",
     "start_time": "2024-03-28T06:44:05.200551Z"
    }
   },
   "id": "ffae21253ffaa06e",
   "execution_count": 11
  },
  {
   "cell_type": "markdown",
   "source": [
    "# 10. Transformer 类"
   ],
   "metadata": {
    "collapsed": false
   },
   "id": "14e6a8b8205f989d"
  },
  {
   "cell_type": "code",
   "outputs": [],
   "source": [
    "class Transformer(nn.Module):\n",
    "    def __init__(self, corpus):\n",
    "        super().__init__()\n",
    "        self.encoder = Encoder(corpus)\n",
    "        self.decoder = Decoder(corpus)\n",
    "        self.projection = nn.Linear(d_embedding, len(corpus.tgt_vocab), bias=False)\n",
    "\n",
    "    def forward(self, enc_inputs, dec_inputs):\n",
    "        enc_outputs, enc_self_attns = self.encoder(enc_inputs)\n",
    "        dec_outputs, dec_self_attns, dec_enc_attns = self.decoder(dec_inputs, enc_inputs, enc_outputs)\n",
    "        dec_logits = self.projection(dec_outputs)\n",
    "        return dec_logits, enc_self_attns, dec_self_attns, dec_enc_attns\n"
   ],
   "metadata": {
    "collapsed": false,
    "ExecuteTime": {
     "end_time": "2024-03-28T06:44:06.283997Z",
     "start_time": "2024-03-28T06:44:06.279239Z"
    }
   },
   "id": "77b6d61c98528851",
   "execution_count": 12
  },
  {
   "cell_type": "markdown",
   "source": [
    "11. 翻译任务"
   ],
   "metadata": {
    "collapsed": false
   },
   "id": "9859366110701e61"
  },
  {
   "cell_type": "code",
   "outputs": [],
   "source": [
    "sentences = [\n",
    "    [\"咖哥 喜欢 小冰\", \"KaGe likes XiaoBing\"],\n",
    "    [\"我 爱 学习 人工智能\", \"I love studying AI\"],\n",
    "    [\"深度学习 改变 世界\", \"DL changed the world\"],\n",
    "    [\"自然语言处理 很 强大\", \"NLP is powerful\"],\n",
    "    [\"神经网络 非常 复杂\", \"Neural-networks are complex\"]\n",
    "]"
   ],
   "metadata": {
    "collapsed": false,
    "ExecuteTime": {
     "end_time": "2024-03-28T06:44:07.575667Z",
     "start_time": "2024-03-28T06:44:07.569889Z"
    }
   },
   "id": "38f4488b064cc166",
   "execution_count": 13
  },
  {
   "cell_type": "code",
   "outputs": [],
   "source": [
    "from collections import Counter\n",
    "\n",
    "\n",
    "class TranslationCorpus(object):\n",
    "    def __init__(self, sentences):\n",
    "        self.sentences = sentences\n",
    "        self.src_len = max(len(sentence[0].split()) for sentence in self.sentences) + 1\n",
    "        self.tgt_len = max(len(sentence[1].split()) for sentence in self.sentences) + 2\n",
    "        self.src_vocab, self.tgt_vocab = self.create_vocabularies()\n",
    "        self.src_idx2word = {v: k for k, v in self.src_vocab.items()}\n",
    "        self.tgt_idx2word = {v: k for k, v in self.tgt_vocab.items()}\n",
    "\n",
    "    def create_vocabularies(self):\n",
    "        src_counter = Counter(word for sentence in self.sentences for word in sentence[0].split())\n",
    "        tgt_counter = Counter(word for sentence in self.sentences for word in sentence[1].split())\n",
    "        src_vocab = {\"<pad>\": 0, **{word: i + 1 for i, word in enumerate(src_counter)}}\n",
    "        tgt_vodab = {\"<pad>\": 0, \"<sos>\": 1, \"<eos>\": 2, **{word: i + 3 for i, word in enumerate(tgt_counter)}}\n",
    "        return src_vocab, tgt_vodab\n",
    "\n",
    "    def make_batch(self, batch_size, test_batch=False):\n",
    "        input_batch, output_batch, target_batch = [], [], []\n",
    "        sentence_indices = torch.randperm(len(self.sentences))[:batch_size]\n",
    "        for index in sentence_indices:\n",
    "            src_sentence, tgt_sentence = self.sentences[index]\n",
    "            src_seq = [self.src_vocab[word] for word in src_sentence.split()]\n",
    "            tgt_seq = [self.tgt_vocab[\"<sos>\"]] + [self.tgt_vocab[word] for word in tgt_sentence.split()] + [\n",
    "                self.tgt_vocab[\"<eos>\"]]\n",
    "            src_seq += [self.src_vocab[\"<pad>\"]] * (self.src_len - len(src_seq))\n",
    "            tgt_seq += [self.tgt_vocab[\"<pad>\"]] * (self.tgt_len - len(tgt_seq))\n",
    "            input_batch.append(src_seq)\n",
    "            output_batch.append(\n",
    "                [self.tgt_vocab[\"<sos>\"]] + ([self.tgt_vocab[\"<pad>\"]] * (self.tgt_len - 2)) if test_batch else tgt_seq[\n",
    "                                                                                                                :-1])\n",
    "            target_batch.append(tgt_seq[1:])\n",
    "        input_batch = torch.LongTensor(input_batch)\n",
    "        output_batch = torch.LongTensor(output_batch)\n",
    "        target_batch = torch.LongTensor(target_batch)\n",
    "        return input_batch, output_batch, target_batch\n",
    "        "
   ],
   "metadata": {
    "collapsed": false,
    "ExecuteTime": {
     "end_time": "2024-03-28T06:44:08.264848Z",
     "start_time": "2024-03-28T06:44:08.255231Z"
    }
   },
   "id": "28642d60094a41ad",
   "execution_count": 14
  },
  {
   "cell_type": "code",
   "outputs": [],
   "source": [
    "corpus = TranslationCorpus(sentences)"
   ],
   "metadata": {
    "collapsed": false,
    "ExecuteTime": {
     "end_time": "2024-03-28T06:44:08.905907Z",
     "start_time": "2024-03-28T06:44:08.902780Z"
    }
   },
   "id": "b6b26477755bbaac",
   "execution_count": 15
  },
  {
   "cell_type": "code",
   "outputs": [
    {
     "name": "stdout",
     "output_type": "stream",
     "text": [
      "Epoch: 100, loss: 0.0007152888574637473\n",
      "Epoch: 200, loss: 0.0004245429008733481\n",
      "Epoch: 300, loss: 0.00031567850965075195\n",
      "Epoch: 400, loss: 0.0002447215956635773\n",
      "Epoch: 500, loss: 0.00018159396131522954\n",
      "Epoch: 600, loss: 0.0001502319355495274\n",
      "Epoch: 700, loss: 0.00013289311027619988\n",
      "Epoch: 800, loss: 0.00012239628995303065\n",
      "Epoch: 900, loss: 0.00010145763371838257\n",
      "Epoch: 1000, loss: 8.782143413554877e-05\n",
      "Epoch: 1100, loss: 8.161515870597214e-05\n",
      "Epoch: 1200, loss: 7.616380753461272e-05\n",
      "Epoch: 1300, loss: 6.967136141611263e-05\n",
      "Epoch: 1400, loss: 6.19550482952036e-05\n",
      "Epoch: 1500, loss: 5.748100011260249e-05\n",
      "Epoch: 1600, loss: 5.912597771384753e-05\n",
      "Epoch: 1700, loss: 5.0996382924495265e-05\n",
      "Epoch: 1800, loss: 4.494087988859974e-05\n",
      "Epoch: 1900, loss: 4.487726982915774e-05\n",
      "Epoch: 2000, loss: 4.2850802856264636e-05\n",
      "Epoch: 2100, loss: 4.126142812310718e-05\n",
      "Epoch: 2200, loss: 3.60561789420899e-05\n",
      "Epoch: 2300, loss: 3.752635166165419e-05\n",
      "Epoch: 2400, loss: 3.7844223697902635e-05\n",
      "Epoch: 2500, loss: 3.130385812255554e-05\n",
      "Epoch: 2600, loss: 3.309192834421992e-05\n",
      "Epoch: 2700, loss: 3.3322379749733955e-05\n",
      "Epoch: 2800, loss: 3.1987281545298174e-05\n",
      "Epoch: 2900, loss: 3.00720457744319e-05\n",
      "Epoch: 3000, loss: 2.7592574042500928e-05\n",
      "Epoch: 3100, loss: 2.6177996915066615e-05\n",
      "Epoch: 3200, loss: 2.779124588414561e-05\n",
      "Epoch: 3300, loss: 2.5637598810135387e-05\n",
      "Epoch: 3400, loss: 2.4866731109796092e-05\n",
      "Epoch: 3500, loss: 2.4397844754275866e-05\n",
      "Epoch: 3600, loss: 2.3404469175147824e-05\n",
      "Epoch: 3700, loss: 2.1759416995337233e-05\n",
      "Epoch: 3800, loss: 2.0853447495028377e-05\n",
      "Epoch: 3900, loss: 2.028125527431257e-05\n",
      "Epoch: 4000, loss: 2.0893174223601818e-05\n",
      "Epoch: 4100, loss: 1.9081238860962912e-05\n",
      "Epoch: 4200, loss: 1.8572625776869245e-05\n",
      "Epoch: 4300, loss: 2.0368672267068177e-05\n",
      "Epoch: 4400, loss: 1.8604414435685612e-05\n",
      "Epoch: 4500, loss: 1.622822310309857e-05\n",
      "Epoch: 4600, loss: 1.579907620907761e-05\n",
      "Epoch: 4700, loss: 1.7277245206059888e-05\n",
      "Epoch: 4800, loss: 1.7324920918326825e-05\n",
      "Epoch: 4900, loss: 1.4471902431978378e-05\n",
      "Epoch: 5000, loss: 1.4901043869031128e-05\n"
     ]
    }
   ],
   "source": [
    "import torch\n",
    "import torch.optim as optim\n",
    "\n",
    "model = Transformer(corpus)\n",
    "criterion = nn.CrossEntropyLoss()\n",
    "optimizer = optim.Adam(model.parameters(), lr=0.0001)\n",
    "epoch = 5000\n",
    "for i in range(epoch):\n",
    "    optimizer.zero_grad()\n",
    "    enc_inputs, dec_inputs, target_batch = corpus.make_batch(batch_size)\n",
    "    outputs, _, _, _ = model(enc_inputs, dec_inputs)\n",
    "    loss = criterion(outputs.view(-1, len(corpus.tgt_vocab)), target_batch.view(-1))\n",
    "    if (i + 1) % 100 == 0:\n",
    "        print(f\"Epoch: {i+1}, loss: {loss}\")\n",
    "    loss.backward()\n",
    "    optimizer.step()\n"
   ],
   "metadata": {
    "collapsed": false,
    "ExecuteTime": {
     "end_time": "2024-03-28T07:25:59.254561Z",
     "start_time": "2024-03-28T06:53:36.630872Z"
    }
   },
   "id": "910d939bd8d2f11d",
   "execution_count": 26
  },
  {
   "cell_type": "code",
   "outputs": [
    {
     "name": "stdout",
     "output_type": "stream",
     "text": [
      "我 爱 学习 人工智能 <pad> -> ['I', 'I', 'I', 'I', 'I']\n"
     ]
    }
   ],
   "source": [
    "enc_inputs, dec_inputs, target_batch = corpus.make_batch(batch_size=1, test_batch=True)\n",
    "predict, enc_self_attns, dec_self_attns, dec_enc_attns = model(enc_inputs, dec_inputs)\n",
    "\n",
    "predict = predict.view(-1, len(corpus.tgt_vocab))\n",
    "predict = predict.max(1, keepdim=True)[1]\n",
    "\n",
    "translated_sentence = [corpus.tgt_idx2word[idx.item()] for idx in predict.squeeze(0)]\n",
    "\n",
    "input_sentence = \" \".join([corpus.src_idx2word[idx.item()] for idx in enc_inputs[0]])\n",
    "print(f\"{input_sentence} -> {translated_sentence}\")\n"
   ],
   "metadata": {
    "collapsed": false,
    "ExecuteTime": {
     "end_time": "2024-03-28T07:28:37.361520Z",
     "start_time": "2024-03-28T07:28:37.183950Z"
    }
   },
   "id": "50f036d412abccab",
   "execution_count": 27
  },
  {
   "cell_type": "markdown",
   "source": [
    "# 11. 修正结果"
   ],
   "metadata": {
    "collapsed": false
   },
   "id": "acb401550b2fa3b2"
  },
  {
   "cell_type": "code",
   "outputs": [],
   "source": [
    "def greedy_decoder(model, enc_inputs, start_symbol):\n",
    "    enc_outputs, enc_self_attns = model.encoder(enc_inputs)\n",
    "    dec_inputs = torch.zeros(1, 5).type_as(enc_inputs.data)\n",
    "    next_symbol = start_symbol\n",
    "    for i in range(0, 5):\n",
    "        dec_inputs[0][i] = next_symbol\n",
    "        dec_outputs, _, _ = model.decoder(dec_inputs, enc_inputs, enc_outputs)\n",
    "        projected = model.projection(dec_outputs)\n",
    "        prob = projected.squeeze(0).max(dim=-1, keepdim=False)[1]\n",
    "        next_word = prob.data[i]\n",
    "        next_symbol = next_word.item()\n",
    "    dec_outputs = dec_inputs\n",
    "    return dec_outputs"
   ],
   "metadata": {
    "collapsed": false,
    "ExecuteTime": {
     "end_time": "2024-03-28T07:30:52.832804Z",
     "start_time": "2024-03-28T07:30:52.816230Z"
    }
   },
   "id": "1a1ec96781bf6979",
   "execution_count": 41
  },
  {
   "cell_type": "code",
   "outputs": [
    {
     "name": "stdout",
     "output_type": "stream",
     "text": [
      "咖哥 喜欢 小冰 <pad> <pad> -> ['<sos>', 'KaGe', 'likes', 'XiaoBing', '<eos>']\n"
     ]
    }
   ],
   "source": [
    "enc_inputs, dec_inputs, target_batch = corpus.make_batch(batch_size=1, test_batch=True)\n",
    "predict, enc_self_attns, dec_self_attns, dec_enc_attns = model(enc_inputs, dec_inputs)\n",
    "\n",
    "gready_dec_input = greedy_decoder(model, enc_inputs, start_symbol=corpus.tgt_vocab[\"<sos>\"])\n",
    "greedy_dec_output_words = [corpus.tgt_idx2word[n.item()] for n in gready_dec_input.squeeze()]\n",
    "\n",
    "input_sentence = \" \".join([corpus.src_idx2word[idx.item()] for idx in enc_inputs[0]])\n",
    "print(f\"{input_sentence} -> {greedy_dec_output_words}\")"
   ],
   "metadata": {
    "collapsed": false,
    "ExecuteTime": {
     "end_time": "2024-03-28T07:30:53.469096Z",
     "start_time": "2024-03-28T07:30:53.304738Z"
    }
   },
   "id": "b1d15158a8cc3072",
   "execution_count": 42
  },
  {
   "cell_type": "code",
   "outputs": [],
   "source": [],
   "metadata": {
    "collapsed": false,
    "ExecuteTime": {
     "end_time": "2024-03-28T07:29:07.466966Z",
     "start_time": "2024-03-28T07:29:07.463442Z"
    }
   },
   "id": "1d15ae96f804cb4c",
   "execution_count": 31
  },
  {
   "cell_type": "code",
   "outputs": [],
   "source": [],
   "metadata": {
    "collapsed": false
   },
   "id": "66780746a59c8208"
  }
 ],
 "metadata": {
  "kernelspec": {
   "display_name": "Python 3",
   "language": "python",
   "name": "python3"
  },
  "language_info": {
   "codemirror_mode": {
    "name": "ipython",
    "version": 2
   },
   "file_extension": ".py",
   "mimetype": "text/x-python",
   "name": "python",
   "nbconvert_exporter": "python",
   "pygments_lexer": "ipython2",
   "version": "2.7.6"
  }
 },
 "nbformat": 4,
 "nbformat_minor": 5
}
