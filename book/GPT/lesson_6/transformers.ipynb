{
 "cells": [
  {
   "cell_type": "markdown",
   "source": [
    "# 1. 多头自注意力 (包含残差连接和层归一化)"
   ],
   "metadata": {
    "collapsed": false
   },
   "id": "af31ec5f9bfd1030"
  },
  {
   "cell_type": "code",
   "outputs": [],
   "source": [
    "import numpy as np\n",
    "import torch\n",
    "import torch.nn as nn\n",
    "\n",
    "d_k = 64  # K, Q 维度\n",
    "d_v = 64  # V 维度\n",
    "\n",
    "\n",
    "class ScaledDotProductAttention(nn.Module):\n",
    "\n",
    "    def __init__(self):\n",
    "        super().__init__()\n",
    "\n",
    "    def forward(self, Q, K, V, attn_mask):\n",
    "        scores = torch.matmul(Q, K.transpose(-1, -2)) / np.sqrt(d_k)\n",
    "        scores.masked_fill_(attn_mask, -1e9)\n",
    "        weights = nn.Softmax(dim=-1)(scores)\n",
    "\n",
    "        context = torch.matmul(weights, V)\n",
    "        return context, weights\n",
    "\n",
    "\n",
    "\n"
   ],
   "metadata": {
    "collapsed": false,
    "ExecuteTime": {
     "end_time": "2024-03-27T08:40:39.405046Z",
     "start_time": "2024-03-27T08:40:33.056520Z"
    }
   },
   "id": "6a5b692e9c2ec016",
   "execution_count": 1
  },
  {
   "cell_type": "code",
   "outputs": [],
   "source": [
    "d_embedding = 512\n",
    "n_heads = 8\n",
    "batch_size = 3\n",
    "\n",
    "\n",
    "class MultiHeadAttention(nn.Module):\n",
    "    def __init__(self):\n",
    "        super().__init__()\n",
    "        self.W_Q = nn.Linear(d_embedding, d_k * n_heads)\n",
    "        self.W_K = nn.Linear(d_embedding, d_k * n_heads)\n",
    "        self.W_V = nn.Linear(d_embedding, d_v * n_heads)\n",
    "        self.linear = nn.Linear(n_heads * d_v, d_embedding)\n",
    "        self.layer_norm = nn.LayerNorm(d_embedding)\n",
    "\n",
    "    def forward(self, Q, K, V, attn_mask):\n",
    "        residual, batch_size = Q, Q.size(0)\n",
    "        q_s = self.W_Q(Q).view(batch_size, -1, n_heads, d_k).transpose(1, 2)\n",
    "        k_s = self.W_K(K).view(batch_size, -1, n_heads, d_k).transpose(1, 2)\n",
    "        v_s = self.W_V(V).view(batch_size, -1, n_heads, d_v).transpose(1, 2)\n",
    "        attn_mask = attn_mask.unsqueeze(1).repeat(1, n_heads, 1, 1)\n",
    "        context, weights = ScaledDotProductAttention()(q_s, k_s, v_s, attn_mask)\n",
    "        context = context.transpose(1, 2).contiguous().view(batch_size, -1, n_heads*d_v)\n",
    "        output = self.linear(context)\n",
    "        output = self.layer_norm(output + residual)\n",
    "        return output, weights\n",
    "\n",
    "\n"
   ],
   "metadata": {
    "collapsed": false,
    "ExecuteTime": {
     "end_time": "2024-03-27T08:40:39.411450Z",
     "start_time": "2024-03-27T08:40:39.406584Z"
    }
   },
   "id": "352c5fa29ed9cae7",
   "execution_count": 2
  },
  {
   "cell_type": "markdown",
   "source": [
    "# 2. 逐位置前馈网络(包含残差连接和层归一化)"
   ],
   "metadata": {
    "collapsed": false
   },
   "id": "cc572584c1e1e4cd"
  },
  {
   "cell_type": "code",
   "outputs": [],
   "source": [
    "class PoswiseFeedForwardNet(nn.Module):\n",
    "    def __init__(self, d_ff=2048):\n",
    "        super().__init__()\n",
    "        self.conv1 = nn.Conv1d(in_channels=d_embedding, out_channels=d_ff, kernel_size=1)\n",
    "        self.conv2 = nn.Conv1d(in_channels=d_ff, out_channels=d_embedding, kernel_size=1)\n",
    "        self.layer_norm = nn.LayerNorm(d_embedding)\n",
    "\n",
    "    def forward(self, inputs):\n",
    "        residual = inputs\n",
    "        output = nn.ReLU()(self.conv1(inputs.transpose(1, 2)))\n",
    "        output = self.conv2(output).transpose(1, 2)\n",
    "        output = self.layer_norm(output + residual)\n",
    "        return output"
   ],
   "metadata": {
    "collapsed": false,
    "ExecuteTime": {
     "end_time": "2024-03-27T08:40:39.415988Z",
     "start_time": "2024-03-27T08:40:39.412748Z"
    }
   },
   "id": "cd34ad0333c6fce5",
   "execution_count": 3
  },
  {
   "cell_type": "markdown",
   "source": [
    "# 3. 正弦位置编码表"
   ],
   "metadata": {
    "collapsed": false
   },
   "id": "541c96f0c04b873e"
  },
  {
   "cell_type": "code",
   "outputs": [],
   "source": [
    "def get_sin_enc_table(n_position, embedding_dim):\n",
    "    sinusoid_table = np.zeros((n_position, embedding_dim))\n",
    "    for pos_i in range(n_position):\n",
    "        for hid_j in range(embedding_dim):\n",
    "            angle = pos_i / np.power(10000, 2 * (hid_j // 2) / embedding_dim)\n",
    "            sinusoid_table[pos_i, hid_j] = angle\n",
    "    sinusoid_table[:, 0::2] = np.sin(sinusoid_table[:, 0::2])\n",
    "    sinusoid_table[:, 1::2] = np.cos(sinusoid_table[:, 1::2])\n",
    "    return torch.FloatTensor(sinusoid_table)\n"
   ],
   "metadata": {
    "collapsed": false,
    "ExecuteTime": {
     "end_time": "2024-03-27T08:40:39.420971Z",
     "start_time": "2024-03-27T08:40:39.417878Z"
    }
   },
   "id": "4701b5e3e752ff6d",
   "execution_count": 4
  },
  {
   "cell_type": "markdown",
   "source": [
    "# 4. 填充掩码"
   ],
   "metadata": {
    "collapsed": false
   },
   "id": "2be3927aebde3dc7"
  },
  {
   "cell_type": "code",
   "outputs": [],
   "source": [
    "def get_attn_pad_mask(seq_q, seq_k):\n",
    "    batch_size, len_q = seq_q.size()\n",
    "    batch_size, len_k = seq_k.size()\n",
    "    pad_attn_mask = seq_k.data.eq(0).unsqueeze(1)\n",
    "    pad_attn_mask = pad_attn_mask.expand(batch_size, len_q, len_k)\n",
    "    return pad_attn_mask\n"
   ],
   "metadata": {
    "collapsed": false,
    "ExecuteTime": {
     "end_time": "2024-03-27T08:40:39.424517Z",
     "start_time": "2024-03-27T08:40:39.421901Z"
    }
   },
   "id": "d731c6513c267692",
   "execution_count": 5
  },
  {
   "cell_type": "markdown",
   "source": [
    "# 5. 编码器层"
   ],
   "metadata": {
    "collapsed": false
   },
   "id": "801d2f79e4dc201c"
  },
  {
   "cell_type": "code",
   "outputs": [],
   "source": [
    "class EncoderLayer(nn.Module):\n",
    "    def __init__(self):\n",
    "        super().__init__()\n",
    "        self.enc_self_attn = MultiHeadAttention()\n",
    "        self.pos_ffn = PoswiseFeedForwardNet()\n",
    "\n",
    "    def forward(self, enc_inputs, enc_self_attn_mask):\n",
    "        enc_outputs, attn_weights = self.enc_self_attn(enc_inputs, enc_inputs, enc_inputs, enc_self_attn_mask)\n",
    "        enc_outputs = self.pos_ffn(enc_outputs)\n",
    "        return enc_outputs, attn_weights\n"
   ],
   "metadata": {
    "collapsed": false,
    "ExecuteTime": {
     "end_time": "2024-03-27T08:40:39.427800Z",
     "start_time": "2024-03-27T08:40:39.425272Z"
    }
   },
   "id": "726ad54697dcd27d",
   "execution_count": 6
  },
  {
   "cell_type": "markdown",
   "source": [
    "# 6. 编码器"
   ],
   "metadata": {
    "collapsed": false
   },
   "id": "9a4d676bd7cc3734"
  },
  {
   "cell_type": "code",
   "outputs": [],
   "source": [
    "n_layer = 6\n",
    "\n",
    "\n",
    "class Encoder(nn.Module):\n",
    "    def __init__(self, corpus):\n",
    "        super().__init__()\n",
    "        self.src_emb = nn.Embedding(len(corpus.src_vocab), d_embedding)\n",
    "        self.pos_emb = nn.Embedding.from_pretrained(get_sin_enc_table(corpus.src_len + 1, d_embedding), freeze=True)\n",
    "        self.layers = nn.ModuleList(EncoderLayer() for _ in range(n_layer))\n",
    "\n",
    "    def forward(self, enc_inputs):\n",
    "        pos_indices = torch.arange(1, enc_inputs.size(1) + 1).unsqueeze(0).to(enc_inputs)\n",
    "        enc_outputs = self.src_emb(enc_inputs) + self.pos_emb(pos_indices)\n",
    "        enc_self_attn_mask = get_attn_pad_mask(enc_inputs, enc_inputs)\n",
    "        enc_self_attn_weights = []\n",
    "        for layer in self.layers:\n",
    "            enc_outputs, enc_self_attn_weight = layer(enc_outputs, enc_self_attn_mask)\n",
    "            enc_self_attn_weights.append(enc_self_attn_weight)\n",
    "        return enc_outputs, enc_self_attn_weights"
   ],
   "metadata": {
    "collapsed": false,
    "ExecuteTime": {
     "end_time": "2024-03-27T08:40:39.432871Z",
     "start_time": "2024-03-27T08:40:39.428834Z"
    }
   },
   "id": "4691accd1f17b366",
   "execution_count": 7
  },
  {
   "cell_type": "markdown",
   "source": [
    "# 7. 后续掩码"
   ],
   "metadata": {
    "collapsed": false
   },
   "id": "290687241a66709d"
  },
  {
   "cell_type": "code",
   "outputs": [],
   "source": [
    "def get_attn_subsequent_mask(seq):\n",
    "    attn_shape = [seq.size(0), seq.size(1), seq.size(1)]\n",
    "    subsequent_mask = np.triu(np.ones(attn_shape), k=1)\n",
    "    subsequent_mask = torch.from_numpy(subsequent_mask).byte()\n",
    "    return subsequent_mask\n"
   ],
   "metadata": {
    "collapsed": false,
    "ExecuteTime": {
     "end_time": "2024-03-27T08:40:39.436556Z",
     "start_time": "2024-03-27T08:40:39.434099Z"
    }
   },
   "id": "a088074255115d9d",
   "execution_count": 8
  },
  {
   "cell_type": "markdown",
   "source": [
    "# 8. 解码器层"
   ],
   "metadata": {
    "collapsed": false
   },
   "id": "388da20fd9b226a2"
  },
  {
   "cell_type": "code",
   "outputs": [],
   "source": [
    "class DecoderLayer(nn.Module):\n",
    "    def __init__(self):\n",
    "        super().__init__()\n",
    "        self.dec_self_attn = MultiHeadAttention()\n",
    "        self.dec_enc_attn = MultiHeadAttention()\n",
    "        self.pos_ffn = PoswiseFeedForwardNet()\n",
    "\n",
    "    def forward(self, dec_inputs, enc_outputs, dec_self_attn_mask, dec_enc_attn_mask):\n",
    "        dec_outputs, dec_self_attn = self.dec_self_attn(dec_inputs, dec_inputs, dec_inputs, dec_self_attn_mask)\n",
    "        dec_outputs, dec_enc_attn = self.dec_enc_attn(dec_outputs, enc_outputs, enc_outputs, dec_enc_attn_mask)\n",
    "        dec_outputs = self.pos_ffn(dec_outputs)\n",
    "        return dec_outputs, dec_self_attn, dec_enc_attn"
   ],
   "metadata": {
    "collapsed": false,
    "ExecuteTime": {
     "end_time": "2024-03-27T08:40:39.440323Z",
     "start_time": "2024-03-27T08:40:39.437374Z"
    }
   },
   "id": "abc73a3cb28c2807",
   "execution_count": 9
  },
  {
   "cell_type": "markdown",
   "source": [
    "# 9. 解码器"
   ],
   "metadata": {
    "collapsed": false
   },
   "id": "fa2c987358c65001"
  },
  {
   "cell_type": "code",
   "outputs": [],
   "source": [
    "n_layer = 6\n",
    "\n",
    "\n",
    "class Decoder(nn.Module):\n",
    "    def __init__(self, corpus):\n",
    "        super().__init__()\n",
    "        self.tgt_emb = nn.Embedding(len(corpus.tgt_vocab), d_embedding)\n",
    "        self.pos_emb = nn.Embedding.from_pretrained(get_sin_enc_table(corpus.tgt_len + 1, d_embedding), freeze=True)\n",
    "        self.layers = nn.ModuleList(DecoderLayer() for _ in range(n_layer))\n",
    "\n",
    "    def forward(self, dec_inputs, enc_inputs, enc_outputs):\n",
    "        pos_indices = torch.arange(1, dec_inputs.size(1) + 1).unsqueeze(0).to(dec_inputs)\n",
    "        dec_outputs = self.tgt_emb(dec_inputs) + self.pos_emb(pos_indices)\n",
    "\n",
    "        dec_self_attn_pad_mask = get_attn_pad_mask(dec_inputs, dec_inputs)\n",
    "        dec_self_subsequent_mask = get_attn_subsequent_mask(dec_inputs)\n",
    "        dec_self_attn_mask = torch.gt((dec_self_attn_pad_mask + dec_self_subsequent_mask), 0)\n",
    "        dec_enc_attn_mask = get_attn_pad_mask(dec_inputs, enc_inputs)\n",
    "        dec_self_attns, dec_enc_attns = [], []\n",
    "        for layer in self.layers:\n",
    "            dec_outputs, dec_self_attn, dec_enc_attn = layer(dec_outputs, enc_outputs, dec_enc_attn_mask,\n",
    "                                                             dec_self_attn_mask)\n",
    "            dec_self_attns.append(dec_self_attn)\n",
    "            dec_enc_attns.append(dec_enc_attn)\n",
    "        return dec_outputs, dec_self_attns, dec_enc_attns\n"
   ],
   "metadata": {
    "collapsed": false,
    "ExecuteTime": {
     "end_time": "2024-03-27T08:40:39.446739Z",
     "start_time": "2024-03-27T08:40:39.442619Z"
    }
   },
   "id": "ffae21253ffaa06e",
   "execution_count": 10
  },
  {
   "cell_type": "markdown",
   "source": [
    "# 10. Transformer 类"
   ],
   "metadata": {
    "collapsed": false
   },
   "id": "14e6a8b8205f989d"
  },
  {
   "cell_type": "code",
   "outputs": [],
   "source": [
    "class Transformer(nn.Module):\n",
    "    def __init__(self, corpus):\n",
    "        super().__init__()\n",
    "        self.encoder = Encoder(corpus)\n",
    "        self.decoder = Decoder(corpus)\n",
    "        self.projection = nn.Linear(d_embedding, len(corpus.tgt_vocab), bias=False)\n",
    "\n",
    "    def forward(self, enc_inputs, dec_inputs):\n",
    "        enc_outputs, enc_self_attns = self.encoder(enc_inputs)\n",
    "        dec_outputs, dec_self_attns, dec_enc_attns = self.decoder(dec_inputs, enc_inputs, enc_outputs)\n",
    "        dec_logits = self.projection(dec_outputs)\n",
    "        return dec_logits, enc_self_attns, dec_self_attns, dec_enc_attns\n"
   ],
   "metadata": {
    "collapsed": false,
    "ExecuteTime": {
     "end_time": "2024-03-27T08:40:39.450725Z",
     "start_time": "2024-03-27T08:40:39.447515Z"
    }
   },
   "id": "77b6d61c98528851",
   "execution_count": 11
  },
  {
   "cell_type": "markdown",
   "source": [
    "11. 翻译任务"
   ],
   "metadata": {
    "collapsed": false
   },
   "id": "9859366110701e61"
  },
  {
   "cell_type": "code",
   "outputs": [],
   "source": [
    "sentences = [\n",
    "    [\"咖哥 喜欢 小冰\", \"KaGe likes XiaoBing\"],\n",
    "    [\"我 爱 学习 人工智能\", \"I love studying AI\"],\n",
    "    [\"深度学习 改变 世界\", \"DL changed the world\"],\n",
    "    [\"自然语言处理 很 强大\", \"NLP is powerful\"],\n",
    "    [\"神经网络 非常 复杂\", \"Neural-networks are complex\"]\n",
    "]"
   ],
   "metadata": {
    "collapsed": false,
    "ExecuteTime": {
     "end_time": "2024-03-27T08:40:39.454494Z",
     "start_time": "2024-03-27T08:40:39.451666Z"
    }
   },
   "id": "38f4488b064cc166",
   "execution_count": 12
  },
  {
   "cell_type": "code",
   "outputs": [],
   "source": [
    "from collections import Counter\n",
    "\n",
    "\n",
    "class TranslationCorpus(object):\n",
    "    def __init__(self, sentences):\n",
    "        self.sentences = sentences\n",
    "        self.src_len = max(len(sentence[0].split()) for sentence in self.sentences) + 1\n",
    "        self.tgt_len = max(len(sentence[1].split()) for sentence in self.sentences) + 2\n",
    "        self.src_vocab, self.tgt_vocab = self.create_vocabularies()\n",
    "        self.src_idx2word = {v: k for k, v in self.src_vocab.items()}\n",
    "        self.tgt_idx2word = {v: k for k, v in self.tgt_vocab.items()}\n",
    "\n",
    "    def create_vocabularies(self):\n",
    "        src_counter = Counter(word for sentence in self.sentences for word in sentence[0].split())\n",
    "        tgt_counter = Counter(word for sentence in self.sentences for word in sentence[1].split())\n",
    "        src_vocab = {\"<pad>\": 0, **{word: i + 1 for i, word in enumerate(src_counter)}}\n",
    "        tgt_vodab = {\"<pad>\": 0, \"<sos>\": 1, \"<eos>\": 2, **{word: i + 3 for i, word in enumerate(tgt_counter)}}\n",
    "        return src_vocab, tgt_vodab\n",
    "\n",
    "    def make_batch(self, batch_size, test_batch=False):\n",
    "        input_batch, output_batch, target_batch = [], [], []\n",
    "        sentence_indices = torch.randperm(len(self.sentences))[:batch_size]\n",
    "        for index in sentence_indices:\n",
    "            src_sentence, tgt_sentence = self.sentences[index]\n",
    "            src_seq = [self.src_vocab[word] for word in src_sentence.split()]\n",
    "            tgt_seq = [self.tgt_vocab[\"<sos>\"]] + [self.tgt_vocab[word] for word in tgt_sentence.split()] + [\n",
    "                self.tgt_vocab[\"<eos>\"]]\n",
    "            src_seq += [self.src_vocab[\"<pad>\"]] * (self.src_len - len(src_seq))\n",
    "            tgt_seq += [self.tgt_vocab[\"<pad>\"]] * (self.tgt_len - len(tgt_seq))\n",
    "            input_batch.append(src_seq)\n",
    "            output_batch.append(\n",
    "                [self.tgt_vocab[\"<sos>\"]] + ([self.tgt_vocab[\"<pad>\"]] * (self.tgt_len - 2)) if test_batch else tgt_seq[\n",
    "                                                                                                                :-1])\n",
    "            target_batch.append(tgt_seq[1:])\n",
    "        input_batch = torch.LongTensor(input_batch)\n",
    "        output_batch = torch.LongTensor(output_batch)\n",
    "        target_batch = torch.LongTensor(target_batch)\n",
    "        return input_batch, output_batch, target_batch\n",
    "        "
   ],
   "metadata": {
    "collapsed": false,
    "ExecuteTime": {
     "end_time": "2024-03-27T08:40:39.464060Z",
     "start_time": "2024-03-27T08:40:39.456201Z"
    }
   },
   "id": "28642d60094a41ad",
   "execution_count": 13
  },
  {
   "cell_type": "code",
   "outputs": [],
   "source": [
    "corpus = TranslationCorpus(sentences)"
   ],
   "metadata": {
    "collapsed": false,
    "ExecuteTime": {
     "end_time": "2024-03-27T08:40:39.469201Z",
     "start_time": "2024-03-27T08:40:39.465289Z"
    }
   },
   "id": "b6b26477755bbaac",
   "execution_count": 14
  },
  {
   "cell_type": "code",
   "outputs": [
    {
     "name": "stdout",
     "output_type": "stream",
     "text": [
      "Epoch: 100, loss: 0.0005959296831861138\n",
      "Epoch: 200, loss: 0.000390407134545967\n",
      "Epoch: 300, loss: 0.00026928645092993975\n",
      "Epoch: 400, loss: 0.00020759178732987493\n",
      "Epoch: 500, loss: 0.00016983396199066192\n",
      "Epoch: 600, loss: 0.00014310381084214896\n",
      "Epoch: 700, loss: 0.00012233256711624563\n",
      "Epoch: 800, loss: 0.000106662446341943\n",
      "Epoch: 900, loss: 9.397995745530352e-05\n",
      "Epoch: 1000, loss: 8.460303797619417e-05\n",
      "Epoch: 1100, loss: 7.725242176093161e-05\n",
      "Epoch: 1200, loss: 7.683128205826506e-05\n",
      "Epoch: 1300, loss: 6.538801972055808e-05\n",
      "Epoch: 1400, loss: 5.930080442340113e-05\n",
      "Epoch: 1500, loss: 5.4938009270699695e-05\n",
      "Epoch: 1600, loss: 5.2665211114799604e-05\n",
      "Epoch: 1700, loss: 5.2466555644059554e-05\n",
      "Epoch: 1800, loss: 4.8063982831081375e-05\n",
      "Epoch: 1900, loss: 4.382828046800569e-05\n",
      "Epoch: 2000, loss: 4.0339571569347754e-05\n",
      "Epoch: 2100, loss: 4.068924317834899e-05\n",
      "Epoch: 2200, loss: 3.8607136957580224e-05\n",
      "Epoch: 2300, loss: 3.4633649192983285e-05\n",
      "Epoch: 2400, loss: 3.3751526643754914e-05\n",
      "Epoch: 2500, loss: 2.9483982871170156e-05\n",
      "Epoch: 2600, loss: 3.039788680325728e-05\n",
      "Epoch: 2700, loss: 3.1534316804027185e-05\n",
      "Epoch: 2800, loss: 2.7703841624315828e-05\n",
      "Epoch: 2900, loss: 2.8307818865869194e-05\n",
      "Epoch: 3000, loss: 2.5844228730420582e-05\n",
      "Epoch: 3100, loss: 2.6638934286893345e-05\n",
      "Epoch: 3200, loss: 2.4294544346048497e-05\n",
      "Epoch: 3300, loss: 2.3015065380604938e-05\n",
      "Epoch: 3400, loss: 2.412765934423078e-05\n",
      "Epoch: 3500, loss: 2.0209738067933358e-05\n",
      "Epoch: 3600, loss: 2.0980605768272653e-05\n",
      "Epoch: 3700, loss: 2.0575302187353373e-05\n",
      "Epoch: 3800, loss: 2.076603595924098e-05\n",
      "Epoch: 3900, loss: 1.9367338609299622e-05\n",
      "Epoch: 4000, loss: 1.8326267309021205e-05\n",
      "Epoch: 4100, loss: 1.9224291463615373e-05\n",
      "Epoch: 4200, loss: 1.8667991753318347e-05\n",
      "Epoch: 4300, loss: 1.6927569959079847e-05\n",
      "Epoch: 4400, loss: 1.640305890759919e-05\n",
      "Epoch: 4500, loss: 1.625206095923204e-05\n",
      "Epoch: 4600, loss: 1.6585841876803897e-05\n",
      "Epoch: 4700, loss: 1.5059988982102368e-05\n",
      "Epoch: 4800, loss: 1.3637445590575226e-05\n",
      "Epoch: 4900, loss: 1.3899702935304958e-05\n",
      "Epoch: 5000, loss: 1.4765942978556268e-05\n",
      "Epoch: 5100, loss: 1.3375188245845493e-05\n",
      "Epoch: 5200, loss: 1.2985777175344992e-05\n",
      "Epoch: 5300, loss: 1.3597708857560065e-05\n",
      "Epoch: 5400, loss: 1.2938095096615143e-05\n",
      "Epoch: 5500, loss: 1.2040062756568659e-05\n",
      "Epoch: 5600, loss: 1.1300974620098714e-05\n",
      "Epoch: 5700, loss: 1.1388392522349022e-05\n",
      "Epoch: 5800, loss: 1.1761909263441339e-05\n",
      "Epoch: 5900, loss: 1.0991033377649728e-05\n",
      "Epoch: 6000, loss: 1.0045317139883991e-05\n",
      "Epoch: 6100, loss: 1.0514201676414814e-05\n",
      "Epoch: 6200, loss: 1.0164524610445369e-05\n",
      "Epoch: 6300, loss: 9.322121513832826e-06\n",
      "Epoch: 6400, loss: 9.401593160873745e-06\n",
      "Epoch: 6500, loss: 8.535347660654224e-06\n",
      "Epoch: 6600, loss: 8.710184374649543e-06\n",
      "Epoch: 6700, loss: 8.638660801807418e-06\n",
      "Epoch: 6800, loss: 8.122091458062641e-06\n",
      "Epoch: 6900, loss: 7.4465779107413255e-06\n",
      "Epoch: 7000, loss: 7.224055934784701e-06\n",
      "Epoch: 7100, loss: 7.716783329669852e-06\n",
      "Epoch: 7200, loss: 7.2637908488104586e-06\n",
      "Epoch: 7300, loss: 6.532646693813149e-06\n",
      "Epoch: 7400, loss: 6.651854164374527e-06\n",
      "Epoch: 7500, loss: 6.659801783825969e-06\n",
      "Epoch: 7600, loss: 5.793553555122344e-06\n",
      "Epoch: 7700, loss: 6.190915883053094e-06\n",
      "Epoch: 7800, loss: 5.563083959714277e-06\n",
      "Epoch: 7900, loss: 5.1577744670794345e-06\n",
      "Epoch: 8000, loss: 5.332613909558859e-06\n",
      "Epoch: 8100, loss: 4.959093530487735e-06\n",
      "Epoch: 8200, loss: 5.0703542910923716e-06\n",
      "Epoch: 8300, loss: 4.498152520682197e-06\n",
      "Epoch: 8400, loss: 4.378945050120819e-06\n",
      "Epoch: 8500, loss: 4.299472038837848e-06\n",
      "Epoch: 8600, loss: 4.3312611524015665e-06\n",
      "Epoch: 8700, loss: 3.7511117625399493e-06\n",
      "Epoch: 8800, loss: 3.6160083709546598e-06\n",
      "Epoch: 8900, loss: 3.822636699624127e-06\n",
      "Epoch: 9000, loss: 3.6319027003628435e-06\n",
      "Epoch: 9100, loss: 3.3934848033823073e-06\n",
      "Epoch: 9200, loss: 3.178909082635073e-06\n",
      "Epoch: 9300, loss: 3.0120165774860652e-06\n",
      "Epoch: 9400, loss: 3.131225639663171e-06\n",
      "Epoch: 9500, loss: 2.7656510610540863e-06\n",
      "Epoch: 9600, loss: 2.559022505010944e-06\n",
      "Epoch: 9700, loss: 2.670284402483958e-06\n",
      "Epoch: 9800, loss: 2.3364993921859423e-06\n",
      "Epoch: 9900, loss: 2.360340886298218e-06\n",
      "Epoch: 10000, loss: 2.209342937931069e-06\n"
     ]
    }
   ],
   "source": [
    "import torch\n",
    "import torch.optim as optim\n",
    "\n",
    "model = Transformer(corpus)\n",
    "criterion = nn.CrossEntropyLoss()\n",
    "optimizer = optim.Adam(model.parameters(), lr=0.0001)\n",
    "epoch = 10000\n",
    "for i in range(epoch):\n",
    "    optimizer.zero_grad()\n",
    "    enc_inputs, dec_inputs, target_batch = corpus.make_batch(batch_size)\n",
    "    outputs, _, _, _ = model(enc_inputs, dec_inputs)\n",
    "    loss = criterion(outputs.view(-1, len(corpus.tgt_vocab)), target_batch.view(-1))\n",
    "    if (i + 1) % 100 == 0:\n",
    "        print(f\"Epoch: {i+1}, loss: {loss}\")\n",
    "    loss.backward()\n",
    "    optimizer.step()\n"
   ],
   "metadata": {
    "collapsed": false,
    "ExecuteTime": {
     "end_time": "2024-03-27T09:47:10.188028Z",
     "start_time": "2024-03-27T08:40:39.470306Z"
    }
   },
   "id": "910d939bd8d2f11d",
   "execution_count": 15
  },
  {
   "cell_type": "code",
   "outputs": [
    {
     "name": "stdout",
     "output_type": "stream",
     "text": [
      "我 爱 学习 人工智能 <pad> -> ['I', 'I', 'I', 'I', 'I']\n"
     ]
    }
   ],
   "source": [
    "enc_inputs, dec_inputs, target_batch = corpus.make_batch(batch_size=1, test_batch=True)\n",
    "predict, enc_self_attns, dec_self_attns, dec_enc_attns = model(enc_inputs, dec_inputs)\n",
    "\n",
    "predict = predict.view(-1, len(corpus.tgt_vocab))\n",
    "predict = predict.max(1, keepdim=True)[1]\n",
    "\n",
    "translated_sentence = [corpus.tgt_idx2word[idx.item()] for idx in predict.squeeze(0)]\n",
    "\n",
    "input_sentence = \" \".join([corpus.src_idx2word[idx.item()] for idx in enc_inputs[0]])\n",
    "print(f\"{input_sentence} -> {translated_sentence}\")\n"
   ],
   "metadata": {
    "collapsed": false,
    "ExecuteTime": {
     "end_time": "2024-03-27T09:52:06.751411Z",
     "start_time": "2024-03-27T09:52:06.535099Z"
    }
   },
   "id": "50f036d412abccab",
   "execution_count": 17
  },
  {
   "cell_type": "code",
   "outputs": [],
   "source": [],
   "metadata": {
    "collapsed": false,
    "ExecuteTime": {
     "end_time": "2024-03-27T09:47:10.256207Z",
     "start_time": "2024-03-27T09:47:10.254002Z"
    }
   },
   "id": "79fee81245a42423",
   "execution_count": 16
  }
 ],
 "metadata": {
  "kernelspec": {
   "display_name": "Python 3",
   "language": "python",
   "name": "python3"
  },
  "language_info": {
   "codemirror_mode": {
    "name": "ipython",
    "version": 2
   },
   "file_extension": ".py",
   "mimetype": "text/x-python",
   "name": "python",
   "nbconvert_exporter": "python",
   "pygments_lexer": "ipython2",
   "version": "2.7.6"
  }
 },
 "nbformat": 4,
 "nbformat_minor": 5
}
