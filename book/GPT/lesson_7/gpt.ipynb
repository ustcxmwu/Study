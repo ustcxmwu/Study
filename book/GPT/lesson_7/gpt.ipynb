{
 "cells": [
  {
   "cell_type": "markdown",
   "source": [
    "# 1. 多头自注意力 (包含残差连接和层归一化)"
   ],
   "metadata": {
    "collapsed": false
   },
   "id": "af31ec5f9bfd1030"
  },
  {
   "cell_type": "code",
   "outputs": [],
   "source": [
    "import numpy as np\n",
    "import torch\n",
    "import torch.nn as nn\n",
    "\n",
    "d_k = 64  # K, Q 维度\n",
    "d_v = 64  # V 维度\n",
    "\n",
    "\n",
    "class ScaledDotProductAttention(nn.Module):\n",
    "\n",
    "    def __init__(self):\n",
    "        super().__init__()\n",
    "\n",
    "    def forward(self, Q, K, V, attn_mask):\n",
    "        scores = torch.matmul(Q, K.transpose(-1, -2)) / np.sqrt(d_k)\n",
    "        scores.masked_fill_(attn_mask, -1e9)\n",
    "        weights = nn.Softmax(dim=-1)(scores)\n",
    "\n",
    "        context = torch.matmul(weights, V)\n",
    "        return context, weights\n",
    "\n",
    "\n",
    "\n"
   ],
   "metadata": {
    "collapsed": false,
    "ExecuteTime": {
     "end_time": "2024-03-28T08:28:51.581944Z",
     "start_time": "2024-03-28T08:28:50.680169Z"
    }
   },
   "id": "6a5b692e9c2ec016",
   "execution_count": 1
  },
  {
   "cell_type": "code",
   "outputs": [],
   "source": [
    "d_embedding = 512\n",
    "n_heads = 8\n",
    "batch_size = 3\n",
    "\n",
    "\n",
    "class MultiHeadAttention(nn.Module):\n",
    "    def __init__(self):\n",
    "        super().__init__()\n",
    "        self.W_Q = nn.Linear(d_embedding, d_k * n_heads)\n",
    "        self.W_K = nn.Linear(d_embedding, d_k * n_heads)\n",
    "        self.W_V = nn.Linear(d_embedding, d_v * n_heads)\n",
    "        self.linear = nn.Linear(n_heads * d_v, d_embedding)\n",
    "        self.layer_norm = nn.LayerNorm(d_embedding)\n",
    "\n",
    "    def forward(self, Q, K, V, attn_mask):\n",
    "        residual, batch_size = Q, Q.size(0)\n",
    "        q_s = self.W_Q(Q).view(batch_size, -1, n_heads, d_k).transpose(1, 2)\n",
    "        k_s = self.W_K(K).view(batch_size, -1, n_heads, d_k).transpose(1, 2)\n",
    "        v_s = self.W_V(V).view(batch_size, -1, n_heads, d_v).transpose(1, 2)\n",
    "        attn_mask = attn_mask.unsqueeze(1).repeat(1, n_heads, 1, 1)\n",
    "        context, weights = ScaledDotProductAttention()(q_s, k_s, v_s, attn_mask)\n",
    "        context = context.transpose(1, 2).contiguous().view(batch_size, -1, n_heads*d_v)\n",
    "        output = self.linear(context)\n",
    "        output = self.layer_norm(output + residual)\n",
    "        return output, weights\n",
    "\n",
    "\n"
   ],
   "metadata": {
    "collapsed": false,
    "ExecuteTime": {
     "end_time": "2024-03-28T08:29:47.562335Z",
     "start_time": "2024-03-28T08:29:47.547762Z"
    }
   },
   "id": "352c5fa29ed9cae7",
   "execution_count": 2
  },
  {
   "cell_type": "markdown",
   "source": [
    "# 2. 逐位置前馈网络(包含残差连接和层归一化)"
   ],
   "metadata": {
    "collapsed": false
   },
   "id": "cc572584c1e1e4cd"
  },
  {
   "cell_type": "code",
   "outputs": [],
   "source": [
    "class PoswiseFeedForwardNet(nn.Module):\n",
    "    def __init__(self, d_ff=2048):\n",
    "        super().__init__()\n",
    "        self.conv1 = nn.Conv1d(in_channels=d_embedding, out_channels=d_ff, kernel_size=1)\n",
    "        self.conv2 = nn.Conv1d(in_channels=d_ff, out_channels=d_embedding, kernel_size=1)\n",
    "        self.layer_norm = nn.LayerNorm(d_embedding)\n",
    "\n",
    "    def forward(self, inputs):\n",
    "        residual = inputs\n",
    "        output = nn.ReLU()(self.conv1(inputs.transpose(1, 2)))\n",
    "        output = self.conv2(output).transpose(1, 2)\n",
    "        output = self.layer_norm(output + residual)\n",
    "        return output"
   ],
   "metadata": {
    "collapsed": false,
    "ExecuteTime": {
     "end_time": "2024-03-28T08:29:49.167109Z",
     "start_time": "2024-03-28T08:29:49.162597Z"
    }
   },
   "id": "cd34ad0333c6fce5",
   "execution_count": 3
  },
  {
   "cell_type": "markdown",
   "source": [
    "# 3. 正弦位置编码表"
   ],
   "metadata": {
    "collapsed": false
   },
   "id": "541c96f0c04b873e"
  },
  {
   "cell_type": "code",
   "outputs": [],
   "source": [
    "def get_sin_enc_table(n_position, embedding_dim):\n",
    "    sinusoid_table = np.zeros((n_position, embedding_dim))\n",
    "    for pos_i in range(n_position):\n",
    "        for hid_j in range(embedding_dim):\n",
    "            angle = pos_i / np.power(10000, 2 * (hid_j // 2) / embedding_dim)\n",
    "            sinusoid_table[pos_i, hid_j] = angle\n",
    "    sinusoid_table[:, 0::2] = np.sin(sinusoid_table[:, 0::2])\n",
    "    sinusoid_table[:, 1::2] = np.cos(sinusoid_table[:, 1::2])\n",
    "    return torch.FloatTensor(sinusoid_table)\n"
   ],
   "metadata": {
    "collapsed": false,
    "ExecuteTime": {
     "end_time": "2024-03-28T08:29:50.884624Z",
     "start_time": "2024-03-28T08:29:50.879644Z"
    }
   },
   "id": "4701b5e3e752ff6d",
   "execution_count": 4
  },
  {
   "cell_type": "markdown",
   "source": [
    "# 4. 填充掩码"
   ],
   "metadata": {
    "collapsed": false
   },
   "id": "2be3927aebde3dc7"
  },
  {
   "cell_type": "code",
   "outputs": [],
   "source": [
    "def get_attn_pad_mask(seq_q, seq_k):\n",
    "    batch_size, len_q = seq_q.size()\n",
    "    batch_size, len_k = seq_k.size()\n",
    "    pad_attn_mask = seq_k.data.eq(0).unsqueeze(1)\n",
    "    pad_attn_mask = pad_attn_mask.expand(batch_size, len_q, len_k)\n",
    "    return pad_attn_mask\n"
   ],
   "metadata": {
    "collapsed": false,
    "ExecuteTime": {
     "end_time": "2024-03-28T08:29:52.417088Z",
     "start_time": "2024-03-28T08:29:52.414597Z"
    }
   },
   "id": "d731c6513c267692",
   "execution_count": 5
  },
  {
   "cell_type": "markdown",
   "source": [
    "# 5. 编码器层"
   ],
   "metadata": {
    "collapsed": false
   },
   "id": "801d2f79e4dc201c"
  },
  {
   "cell_type": "code",
   "outputs": [],
   "source": [
    "class EncoderLayer(nn.Module):\n",
    "    def __init__(self):\n",
    "        super().__init__()\n",
    "        self.enc_self_attn = MultiHeadAttention()\n",
    "        self.pos_ffn = PoswiseFeedForwardNet()\n",
    "\n",
    "    def forward(self, enc_inputs, enc_self_attn_mask):\n",
    "        enc_outputs, attn_weights = self.enc_self_attn(enc_inputs, enc_inputs, enc_inputs, enc_self_attn_mask)\n",
    "        enc_outputs = self.pos_ffn(enc_outputs)\n",
    "        return enc_outputs, attn_weights\n"
   ],
   "metadata": {
    "collapsed": false,
    "ExecuteTime": {
     "end_time": "2024-03-28T08:29:53.744392Z",
     "start_time": "2024-03-28T08:29:53.741454Z"
    }
   },
   "id": "726ad54697dcd27d",
   "execution_count": 6
  },
  {
   "cell_type": "markdown",
   "source": [
    "# 6. 编码器"
   ],
   "metadata": {
    "collapsed": false
   },
   "id": "9a4d676bd7cc3734"
  },
  {
   "cell_type": "code",
   "outputs": [],
   "source": [
    "n_layer = 6\n",
    "\n",
    "\n",
    "class Encoder(nn.Module):\n",
    "    def __init__(self, corpus):\n",
    "        super().__init__()\n",
    "        self.src_emb = nn.Embedding(len(corpus.src_vocab), d_embedding)\n",
    "        self.pos_emb = nn.Embedding.from_pretrained(get_sin_enc_table(corpus.src_len + 1, d_embedding), freeze=True)\n",
    "        self.layers = nn.ModuleList(EncoderLayer() for _ in range(n_layer))\n",
    "\n",
    "    def forward(self, enc_inputs):\n",
    "        pos_indices = torch.arange(1, enc_inputs.size(1) + 1).unsqueeze(0).to(enc_inputs)\n",
    "        enc_outputs = self.src_emb(enc_inputs) + self.pos_emb(pos_indices)\n",
    "        enc_self_attn_mask = get_attn_pad_mask(enc_inputs, enc_inputs)\n",
    "        enc_self_attn_weights = []\n",
    "        for layer in self.layers:\n",
    "            enc_outputs, enc_self_attn_weight = layer(enc_outputs, enc_self_attn_mask)\n",
    "            enc_self_attn_weights.append(enc_self_attn_weight)\n",
    "        return enc_outputs, enc_self_attn_weights"
   ],
   "metadata": {
    "collapsed": false,
    "ExecuteTime": {
     "end_time": "2024-03-28T08:29:54.990256Z",
     "start_time": "2024-03-28T08:29:54.986344Z"
    }
   },
   "id": "4691accd1f17b366",
   "execution_count": 7
  },
  {
   "cell_type": "markdown",
   "source": [
    "# 7. 后续掩码"
   ],
   "metadata": {
    "collapsed": false
   },
   "id": "290687241a66709d"
  },
  {
   "cell_type": "code",
   "outputs": [],
   "source": [
    "def get_attn_subsequent_mask(seq):\n",
    "    attn_shape = [seq.size(0), seq.size(1), seq.size(1)]\n",
    "    subsequent_mask = np.triu(np.ones(attn_shape), k=1)\n",
    "    subsequent_mask = torch.from_numpy(subsequent_mask).byte()\n",
    "    return subsequent_mask\n"
   ],
   "metadata": {
    "collapsed": false,
    "ExecuteTime": {
     "end_time": "2024-03-28T08:29:56.418876Z",
     "start_time": "2024-03-28T08:29:56.415807Z"
    }
   },
   "id": "a088074255115d9d",
   "execution_count": 8
  },
  {
   "cell_type": "markdown",
   "source": [
    "# 8. 解码器层"
   ],
   "metadata": {
    "collapsed": false
   },
   "id": "388da20fd9b226a2"
  },
  {
   "cell_type": "code",
   "outputs": [],
   "source": [
    "class DecoderLayer(nn.Module):\n",
    "    def __init__(self):\n",
    "        super().__init__()\n",
    "        self.self_attn = MultiHeadAttention()\n",
    "        self.feed_forward = PoswiseFeedForwardNet()\n",
    "        self.norm1 = nn.LayerNorm(d_embedding)\n",
    "        self.norm2 = nn.LayerNorm(d_embedding)\n",
    "\n",
    "    def forward(self, dec_inputs, attn_mask=None):\n",
    "        attn_output, _ = self.self_attn(dec_inputs, dec_inputs, dec_inputs, attn_mask)\n",
    "        norm1_outputs = self.norm1(dec_inputs+attn_output)\n",
    "        ff_outputs = self.feed_forward(norm1_outputs)\n",
    "        dec_outputs = self.norm2(norm1_outputs + ff_outputs)\n",
    "        return dec_outputs"
   ],
   "metadata": {
    "collapsed": false,
    "ExecuteTime": {
     "end_time": "2024-03-28T08:29:57.432435Z",
     "start_time": "2024-03-28T08:29:57.429050Z"
    }
   },
   "id": "abc73a3cb28c2807",
   "execution_count": 9
  },
  {
   "cell_type": "markdown",
   "source": [
    "# 9. 解码器"
   ],
   "metadata": {
    "collapsed": false
   },
   "id": "fa2c987358c65001"
  },
  {
   "cell_type": "code",
   "outputs": [],
   "source": [
    "n_layer = 6\n",
    "\n",
    "class Decoder(nn.Module):\n",
    "    def __init__(self, vocab_size, max_seq_len):\n",
    "        super().__init__()\n",
    "        self.src_emb = nn.Embedding(vocab_size, d_embedding)\n",
    "        self.pos_emb = nn.Embedding(max_seq_len, d_embedding)\n",
    "        self.layers = nn.ModuleList(DecoderLayer() for _ in range(n_layer))\n",
    "\n",
    "    def forward(self, dec_inputs):\n",
    "        positions = torch.arange(len(dec_inputs), device=dec_inputs.device).unsqueeze(-1)\n",
    "        inputs_embedding = self.src_emb(dec_inputs) + self.pos_emb(positions)\n",
    "        attn_mask = get_attn_subsequent_mask(inputs_embedding).to(dec_inputs.device)\n",
    "        dec_outputs = inputs_embedding\n",
    "        for layer in self.layers:\n",
    "            dec_outputs = layer(dec_outputs, attn_mask)\n",
    "        return dec_outputs\n",
    "        \n"
   ],
   "metadata": {
    "collapsed": false,
    "ExecuteTime": {
     "end_time": "2024-03-28T08:29:58.630669Z",
     "start_time": "2024-03-28T08:29:58.626842Z"
    }
   },
   "id": "ffae21253ffaa06e",
   "execution_count": 10
  },
  {
   "cell_type": "markdown",
   "source": [
    "# 10. GPT 类"
   ],
   "metadata": {
    "collapsed": false
   },
   "id": "14e6a8b8205f989d"
  },
  {
   "cell_type": "code",
   "outputs": [],
   "source": [
    "class GPT(nn.Module):\n",
    "    def __init__(self, vocab_size, max_seq_len):\n",
    "        super().__init__()\n",
    "        self.decoder = Decoder(vocab_size, max_seq_len)\n",
    "        self.projection = nn.Linear(d_embedding, vocab_size)\n",
    "\n",
    "    def forward(self, dec_inputs):\n",
    "        dec_outputs = self.decoder(dec_inputs)\n",
    "        logits = self.projection(dec_outputs)\n",
    "        return logits"
   ],
   "metadata": {
    "collapsed": false,
    "ExecuteTime": {
     "end_time": "2024-03-28T08:30:07.887482Z",
     "start_time": "2024-03-28T08:30:07.884029Z"
    }
   },
   "id": "77b6d61c98528851",
   "execution_count": 12
  },
  {
   "cell_type": "markdown",
   "source": [
    "# 11. 翻译任务"
   ],
   "metadata": {
    "collapsed": false
   },
   "id": "9859366110701e61"
  },
  {
   "cell_type": "code",
   "outputs": [],
   "source": [
    "from collections import Counter\n",
    "\n",
    "\n",
    "class LanguageCorpus(object):\n",
    "    def __init__(self, sentences):\n",
    "        self.sentences = sentences\n",
    "        self.seq_len = max([len(sentence.split()) for sentence in sentences]) + 2\n",
    "        self.vocab = self.create_vocabularies()\n",
    "        self.idx2word = {v:k for k, v in self.vocab.items()}\n",
    "\n",
    "    def create_vocabularies(self):\n",
    "        vocab = {\"<pad>\": 0, \"<sos>\": 1, \"<eos>\": 2}\n",
    "        counter = Counter()\n",
    "        for sentence in self.sentences:\n",
    "            words = sentence.split()\n",
    "            counter.update(words)\n",
    "        for word in counter:\n",
    "            if word not in vocab:\n",
    "                vocab[word] = len(vocab)\n",
    "        return vocab\n",
    "\n",
    "    def make_batch(self, batch_size, test_batch=False):\n",
    "        input_batch, output_batch = [], []\n",
    "        sentence_indices = torch.randperm(len(self.sentences))[:batch_size]\n",
    "        for index in sentence_indices:\n",
    "            sentence = self.sentences[index]\n",
    "            seq = [self.vocab[\"<sos>\"]] + [self.vocab[word] for word in sentence.split()] + [self.vocab[\"<eos>\"]]\n",
    "            seq += [self.vocab[\"<pad>\"]] * (self.seq_len - len(seq))\n",
    "            input_batch.append(seq[:-1])\n",
    "            output_batch.append(seq[1:])\n",
    "        return torch.LongTensor(input_batch), torch.LongTensor(output_batch)\n",
    "        "
   ],
   "metadata": {
    "collapsed": false,
    "ExecuteTime": {
     "end_time": "2024-03-28T08:30:19.234676Z",
     "start_time": "2024-03-28T08:30:19.222531Z"
    }
   },
   "id": "28642d60094a41ad",
   "execution_count": 13
  },
  {
   "cell_type": "code",
   "outputs": [
    {
     "name": "stdout",
     "output_type": "stream",
     "text": [
      "词汇表大小: 82\n",
      "最长句子长度: 16\n"
     ]
    }
   ],
   "source": [
    "with open(\"lang.txt\", mode='r') as f:\n",
    "    sentences = [line.strip() for line in f.readlines()]\n",
    "corpus = LanguageCorpus(sentences)\n",
    "vocab_size = len(corpus.vocab)\n",
    "max_seq_len = corpus.seq_len\n",
    "print(f\"词汇表大小: {vocab_size}\")\n",
    "print(f\"最长句子长度: {max_seq_len}\")\n",
    "    "
   ],
   "metadata": {
    "collapsed": false,
    "ExecuteTime": {
     "end_time": "2024-03-28T08:30:20.524244Z",
     "start_time": "2024-03-28T08:30:20.518318Z"
    }
   },
   "id": "b6b26477755bbaac",
   "execution_count": 14
  },
  {
   "cell_type": "code",
   "outputs": [
    {
     "name": "stderr",
     "output_type": "stream",
     "text": [
      "/var/folders/14/y2y48zlx0mv9s5p_x9rlq2q40000gn/T/ipykernel_22965/569289947.py:16: UserWarning: masked_fill_ received a mask with dtype torch.uint8, this behavior is now deprecated,please use a mask with dtype torch.bool instead. (Triggered internally at  /Users/distiller/project/pytorch/aten/src/ATen/native/TensorAdvancedIndexing.cpp:1391.)\n",
      "  scores.masked_fill_(attn_mask, -1e9)\n",
      "/Users/wuxiaomin/opt/anaconda3/envs/Study/lib/python3.8/site-packages/torch/autograd/__init__.py:173: UserWarning: masked_fill_ received a mask with dtype torch.uint8, this behavior is now deprecated,please use a mask with dtype torch.bool instead. (Triggered internally at  /Users/distiller/project/pytorch/aten/src/ATen/native/TensorAdvancedIndexing.cpp:1391.)\n",
      "  Variable._execution_engine.run_backward(  # Calls into the C++ engine to run the backward pass\n"
     ]
    },
    {
     "name": "stdout",
     "output_type": "stream",
     "text": [
      "Epoch: 10, loss: 3.07548189163208\n",
      "Epoch: 20, loss: 2.813525915145874\n",
      "Epoch: 30, loss: 1.2722053527832031\n",
      "Epoch: 40, loss: 1.2023961544036865\n",
      "Epoch: 50, loss: 0.6259489059448242\n",
      "Epoch: 60, loss: 0.43334007263183594\n",
      "Epoch: 70, loss: 0.31066620349884033\n",
      "Epoch: 80, loss: 0.27176958322525024\n",
      "Epoch: 90, loss: 0.2805664837360382\n",
      "Epoch: 100, loss: 0.28625932335853577\n",
      "Epoch: 110, loss: 0.20614895224571228\n",
      "Epoch: 120, loss: 0.22206641733646393\n",
      "Epoch: 130, loss: 0.23234643042087555\n",
      "Epoch: 140, loss: 0.22750474512577057\n",
      "Epoch: 150, loss: 0.16773372888565063\n",
      "Epoch: 160, loss: 0.26131829619407654\n",
      "Epoch: 170, loss: 0.1714700162410736\n",
      "Epoch: 180, loss: 0.25413522124290466\n",
      "Epoch: 190, loss: 0.1620921492576599\n",
      "Epoch: 200, loss: 0.18869328498840332\n",
      "Epoch: 210, loss: 0.18804405629634857\n",
      "Epoch: 220, loss: 0.19130931794643402\n",
      "Epoch: 230, loss: 0.18492715060710907\n",
      "Epoch: 240, loss: 0.218252494931221\n",
      "Epoch: 250, loss: 0.16061760485172272\n",
      "Epoch: 260, loss: 0.24822750687599182\n",
      "Epoch: 270, loss: 0.2257116734981537\n",
      "Epoch: 280, loss: 0.17098350822925568\n",
      "Epoch: 290, loss: 0.16414698958396912\n",
      "Epoch: 300, loss: 0.13554328680038452\n",
      "Epoch: 310, loss: 0.1391938030719757\n",
      "Epoch: 320, loss: 0.18058012425899506\n",
      "Epoch: 330, loss: 0.19328071177005768\n",
      "Epoch: 340, loss: 0.18435607850551605\n",
      "Epoch: 350, loss: 0.14918678998947144\n",
      "Epoch: 360, loss: 0.16893929243087769\n",
      "Epoch: 370, loss: 0.1809741109609604\n",
      "Epoch: 380, loss: 0.20007961988449097\n",
      "Epoch: 390, loss: 0.17521892488002777\n",
      "Epoch: 400, loss: 0.1818505972623825\n",
      "Epoch: 410, loss: 0.15336968004703522\n",
      "Epoch: 420, loss: 0.18465274572372437\n",
      "Epoch: 430, loss: 0.1660117655992508\n",
      "Epoch: 440, loss: 0.15065310895442963\n",
      "Epoch: 450, loss: 0.16882991790771484\n",
      "Epoch: 460, loss: 0.16081693768501282\n",
      "Epoch: 470, loss: 0.2015814632177353\n",
      "Epoch: 480, loss: 0.17619860172271729\n",
      "Epoch: 490, loss: 0.18655246496200562\n",
      "Epoch: 500, loss: 0.18262134492397308\n",
      "Epoch: 510, loss: 0.16708166897296906\n",
      "Epoch: 520, loss: 0.15911675989627838\n",
      "Epoch: 530, loss: 0.17768076062202454\n",
      "Epoch: 540, loss: 0.17077146470546722\n",
      "Epoch: 550, loss: 0.1831364929676056\n",
      "Epoch: 560, loss: 0.15446633100509644\n",
      "Epoch: 570, loss: 0.20867404341697693\n",
      "Epoch: 580, loss: 0.1928497552871704\n",
      "Epoch: 590, loss: 0.15801769495010376\n",
      "Epoch: 600, loss: 0.2021501511335373\n",
      "Epoch: 610, loss: 0.1709403395652771\n",
      "Epoch: 620, loss: 0.15959373116493225\n",
      "Epoch: 630, loss: 0.15958534181118011\n",
      "Epoch: 640, loss: 0.15408170223236084\n",
      "Epoch: 650, loss: 0.17122791707515717\n",
      "Epoch: 660, loss: 0.1800699084997177\n",
      "Epoch: 670, loss: 0.16627342998981476\n",
      "Epoch: 680, loss: 0.16243791580200195\n",
      "Epoch: 690, loss: 0.18112051486968994\n",
      "Epoch: 700, loss: 0.20125332474708557\n",
      "Epoch: 710, loss: 0.15332795679569244\n",
      "Epoch: 720, loss: 0.1987483948469162\n",
      "Epoch: 730, loss: 0.19444075226783752\n",
      "Epoch: 740, loss: 0.15987086296081543\n",
      "Epoch: 750, loss: 0.17165519297122955\n",
      "Epoch: 760, loss: 0.16278976202011108\n",
      "Epoch: 770, loss: 0.16955594718456268\n",
      "Epoch: 780, loss: 0.17182044684886932\n",
      "Epoch: 790, loss: 0.17587414383888245\n",
      "Epoch: 800, loss: 0.16961315274238586\n",
      "Epoch: 810, loss: 0.14071129262447357\n",
      "Epoch: 820, loss: 0.17132917046546936\n",
      "Epoch: 830, loss: 0.17691832780838013\n",
      "Epoch: 840, loss: 0.16075198352336884\n",
      "Epoch: 850, loss: 0.17596572637557983\n",
      "Epoch: 860, loss: 0.18492934107780457\n",
      "Epoch: 870, loss: 0.2024998515844345\n",
      "Epoch: 880, loss: 0.1604536920785904\n",
      "Epoch: 890, loss: 0.19364428520202637\n",
      "Epoch: 900, loss: 0.1482849419116974\n",
      "Epoch: 910, loss: 0.16998332738876343\n",
      "Epoch: 920, loss: 0.17009955644607544\n",
      "Epoch: 930, loss: 0.1869896799325943\n",
      "Epoch: 940, loss: 0.19686704874038696\n",
      "Epoch: 950, loss: 0.17930422723293304\n",
      "Epoch: 960, loss: 0.17521189153194427\n",
      "Epoch: 970, loss: 0.17713896930217743\n",
      "Epoch: 980, loss: 0.13843992352485657\n",
      "Epoch: 990, loss: 0.15808166563510895\n",
      "Epoch: 1000, loss: 0.17153975367546082\n"
     ]
    }
   ],
   "source": [
    "import torch\n",
    "import torch.optim as optim\n",
    "\n",
    "device = torch.device(\"cuda\" if torch.cuda.is_available() else \"cpu\")\n",
    "model = GPT(vocab_size, max_seq_len).to(device)\n",
    "\n",
    "criterion = nn.CrossEntropyLoss()\n",
    "optimizer = optim.Adam(model.parameters(), lr=0.0001)\n",
    "\n",
    "epochs = 1000\n",
    "for epoch in range(epochs):\n",
    "    optimizer.zero_grad()\n",
    "    inputs, targets = corpus.make_batch(batch_size)\n",
    "    inputs, targets = inputs.to(device), targets.to(device)\n",
    "    outputs = model(inputs)\n",
    "    loss = criterion(outputs.view(-1, vocab_size), targets.view(-1))\n",
    "    if (epoch + 1) % 10 == 0:\n",
    "        print(f\"Epoch: {epoch+1}, loss: {loss}\")\n",
    "    loss.backward()\n",
    "    optimizer.step()\n",
    "    \n"
   ],
   "metadata": {
    "collapsed": false,
    "ExecuteTime": {
     "end_time": "2024-03-28T08:34:51.422912Z",
     "start_time": "2024-03-28T08:30:23.020905Z"
    }
   },
   "id": "910d939bd8d2f11d",
   "execution_count": 15
  },
  {
   "cell_type": "markdown",
   "source": [
    "# 12. 测试"
   ],
   "metadata": {
    "collapsed": false
   },
   "id": "acb401550b2fa3b2"
  },
  {
   "cell_type": "code",
   "outputs": [],
   "source": [
    "def generate_text(model, input_str, max_len=50):\n",
    "    model.eval()\n",
    "    input_tokens = [corpus.vocab[token] for token in input_str]\n",
    "    output_tokens = input_tokens.copy()\n",
    "    with torch.no_grad():\n",
    "        for _ in range(max_len):\n",
    "            inputs = torch.LongTensor(output_tokens).unsqueeze(0).to(device)\n",
    "            outputs = model(inputs)\n",
    "            _, next_token = torch.max(outputs[:, -1, :], dim=-1)\n",
    "            next_token = next_token.item()\n",
    "            if next_token == corpus.vocab[\"<eos>\"]:\n",
    "                break\n",
    "            output_tokens.append(next_token)\n",
    "    output_str = \" \".join([corpus.idx2word[idx] for idx in  output_tokens])\n",
    "    return output_str"
   ],
   "metadata": {
    "collapsed": false,
    "ExecuteTime": {
     "end_time": "2024-03-28T08:35:31.701326Z",
     "start_time": "2024-03-28T08:35:31.694280Z"
    }
   },
   "id": "1a1ec96781bf6979",
   "execution_count": 16
  },
  {
   "cell_type": "code",
   "outputs": [
    {
     "name": "stdout",
     "output_type": "stream",
     "text": [
      "生成文本: Python libraries like Pandas and Matplotlib.\n"
     ]
    },
    {
     "name": "stderr",
     "output_type": "stream",
     "text": [
      "/var/folders/14/y2y48zlx0mv9s5p_x9rlq2q40000gn/T/ipykernel_22965/569289947.py:16: UserWarning: masked_fill_ received a mask with dtype torch.uint8, this behavior is now deprecated,please use a mask with dtype torch.bool instead. (Triggered internally at  /Users/distiller/project/pytorch/aten/src/ATen/native/TensorAdvancedIndexing.cpp:1391.)\n",
      "  scores.masked_fill_(attn_mask, -1e9)\n"
     ]
    }
   ],
   "source": [
    "input_str = [\"Python\", \"libraries\"]\n",
    "generated_text = generate_text(model, input_str)\n",
    "\n",
    "print(f\"生成文本: {generated_text}\")"
   ],
   "metadata": {
    "collapsed": false,
    "ExecuteTime": {
     "end_time": "2024-03-28T08:39:52.897048Z",
     "start_time": "2024-03-28T08:39:52.809808Z"
    }
   },
   "id": "b1d15158a8cc3072",
   "execution_count": 25
  },
  {
   "cell_type": "code",
   "outputs": [],
   "source": [],
   "metadata": {
    "collapsed": false,
    "ExecuteTime": {
     "end_time": "2024-03-28T08:39:54.070067Z",
     "start_time": "2024-03-28T08:39:54.067885Z"
    }
   },
   "id": "1d15ae96f804cb4c",
   "execution_count": 25
  },
  {
   "cell_type": "code",
   "outputs": [],
   "source": [],
   "metadata": {
    "collapsed": false
   },
   "id": "66780746a59c8208"
  }
 ],
 "metadata": {
  "kernelspec": {
   "display_name": "Python 3",
   "language": "python",
   "name": "python3"
  },
  "language_info": {
   "codemirror_mode": {
    "name": "ipython",
    "version": 2
   },
   "file_extension": ".py",
   "mimetype": "text/x-python",
   "name": "python",
   "nbconvert_exporter": "python",
   "pygments_lexer": "ipython2",
   "version": "2.7.6"
  }
 },
 "nbformat": 4,
 "nbformat_minor": 5
}
