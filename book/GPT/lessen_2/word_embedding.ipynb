{
 "cells": [
  {
   "cell_type": "code",
   "execution_count": 8,
   "id": "initial_id",
   "metadata": {
    "collapsed": true,
    "ExecuteTime": {
     "end_time": "2024-03-13T08:22:00.204466Z",
     "start_time": "2024-03-13T08:22:00.194310Z"
    }
   },
   "outputs": [
    {
     "name": "stdout",
     "output_type": "stream",
     "text": [
      "词汇表: ['Kage', 'Xiaobing', 'Teacher', 'Niuzong', 'Xiaoxue', 'Student', 'Mazong', 'Boss', 'is']\n",
      "词汇到索引: {'Kage': 0, 'Xiaobing': 1, 'Teacher': 2, 'Niuzong': 3, 'Xiaoxue': 4, 'Student': 5, 'Mazong': 6, 'Boss': 7, 'is': 8}\n",
      "索引到词汇: {0: 'Kage', 1: 'Xiaobing', 2: 'Teacher', 3: 'Niuzong', 4: 'Xiaoxue', 5: 'Student', 6: 'Mazong', 7: 'Boss', 8: 'is'}\n",
      "词汇表大小: 9\n"
     ]
    }
   ],
   "source": [
    "sentences = [\n",
    "    \"Kage is Teacher\", \"Mazong is Boss\", \"Niuzong is Boss\",\n",
    "    \"Xiaobing is Student\", \"Xiaoxue is Student\"\n",
    "]\n",
    "words = \" \".join(sentences).split()\n",
    "word_list = list(set(words))\n",
    "word_to_idx = {w: i for i, w in enumerate(word_list)}\n",
    "idx_to_word = {i: w for i, w in enumerate(word_list)}\n",
    "voc_size = len(word_list)\n",
    "print(f\"词汇表: {word_list}\")\n",
    "print(f\"词汇到索引: {word_to_idx}\")\n",
    "print(f\"索引到词汇: {idx_to_word}\")\n",
    "print(f\"词汇表大小: {voc_size}\")"
   ]
  },
  {
   "cell_type": "code",
   "outputs": [],
   "source": [
    "def create_skipgram_dataset(sentences, window_size=2):\n",
    "    data = []\n",
    "    for sentence in sentences:\n",
    "        sentence = sentence.split()\n",
    "        for idx, word in enumerate(sentence):\n",
    "            for neighbor in sentence[max(idx - window_size, 0): min(idx + window_size, len(sentence))]:\n",
    "                if neighbor != word:\n",
    "                    data.append((neighbor, word))\n",
    "    return data"
   ],
   "metadata": {
    "collapsed": false,
    "ExecuteTime": {
     "end_time": "2024-03-13T08:22:00.781255Z",
     "start_time": "2024-03-13T08:22:00.778194Z"
    }
   },
   "id": "7f5828e779220b8b",
   "execution_count": 9
  },
  {
   "cell_type": "code",
   "outputs": [
    {
     "name": "stdout",
     "output_type": "stream",
     "text": [
      "SkipGram 数据集: [('is', 'Kage'), ('Kage', 'is'), ('Teacher', 'is')]\n"
     ]
    }
   ],
   "source": [
    "skipgram_data = create_skipgram_dataset(sentences)\n",
    "print(f\"SkipGram 数据集: {skipgram_data[:3]}\")"
   ],
   "metadata": {
    "collapsed": false,
    "ExecuteTime": {
     "end_time": "2024-03-13T08:23:09.443088Z",
     "start_time": "2024-03-13T08:23:09.421136Z"
    }
   },
   "id": "e2a76ff6a014ad43",
   "execution_count": 13
  },
  {
   "cell_type": "code",
   "outputs": [
    {
     "name": "stdout",
     "output_type": "stream",
     "text": [
      "编码前单词: Teacher\n",
      "Onehot 编码: tensor([0., 0., 1., 0., 0., 0., 0., 0., 0.])\n",
      "SkipGram 数据样例: [(tensor([0., 0., 0., 0., 0., 0., 0., 0., 1.]), 0), (tensor([1., 0., 0., 0., 0., 0., 0., 0., 0.]), 8), (tensor([0., 0., 1., 0., 0., 0., 0., 0., 0.]), 8)]\n"
     ]
    }
   ],
   "source": [
    "import torch\n",
    "\n",
    "def one_hot_encoding(word, word_to_idx):\n",
    "    tensor = torch.zeros(len(word_to_idx))\n",
    "    tensor[word_to_idx[word]] = 1\n",
    "    return tensor\n",
    "\n",
    "word_sample = \"Teacher\"\n",
    "print(f\"编码前单词: {word_sample}\")\n",
    "print(f\"Onehot 编码: {one_hot_encoding(word_sample, word_to_idx)}\")\n",
    "print(f\"SkipGram 数据样例: {[(one_hot_encoding(context, word_to_idx), word_to_idx[target]) for context, target in skipgram_data[:3]]}\")"
   ],
   "metadata": {
    "collapsed": false,
    "ExecuteTime": {
     "end_time": "2024-03-13T08:22:48.493157Z",
     "start_time": "2024-03-13T08:22:48.477638Z"
    }
   },
   "id": "be4f6220c430781f",
   "execution_count": 12
  },
  {
   "cell_type": "code",
   "outputs": [],
   "source": [
    "import torch.nn as nn\n",
    "\n",
    "class SkipGram(nn.Module):\n",
    "    def __init__(self, voc_size, embedding_size):\n",
    "        super().__init__()\n",
    "        self.input_to_hidden = nn.Linear(voc_size, embedding_size, bias=False)\n",
    "        self.hidden_to_output = nn.Linear(embedding_size, voc_size, bias=False)\n",
    "    \n",
    "    def forward(self, X):\n",
    "        hidden = self.input_to_hidden(X)\n",
    "        output = self.hidden_to_output(hidden)\n",
    "        return output\n",
    "    "
   ],
   "metadata": {
    "collapsed": false,
    "ExecuteTime": {
     "end_time": "2024-03-13T09:13:34.366548Z",
     "start_time": "2024-03-13T09:13:34.343728Z"
    }
   },
   "id": "8e48965cdb4edbd",
   "execution_count": 15
  },
  {
   "cell_type": "code",
   "outputs": [
    {
     "name": "stdout",
     "output_type": "stream",
     "text": [
      "SkipGram(\n",
      "  (input_to_hidden): Linear(in_features=9, out_features=2, bias=False)\n",
      "  (hidden_to_output): Linear(in_features=2, out_features=9, bias=False)\n",
      ")\n"
     ]
    }
   ],
   "source": [
    "embedding_size = 2\n",
    "skipgram_model = SkipGram(voc_size, embedding_size)\n",
    "print(skipgram_model)"
   ],
   "metadata": {
    "collapsed": false,
    "ExecuteTime": {
     "end_time": "2024-03-13T09:14:14.836450Z",
     "start_time": "2024-03-13T09:14:14.774244Z"
    }
   },
   "id": "18be95403c049808",
   "execution_count": 16
  },
  {
   "cell_type": "code",
   "outputs": [
    {
     "name": "stdout",
     "output_type": "stream",
     "text": [
      "Epoch:100, Loss:2.1805975961685182\n",
      "Epoch:200, Loss:2.151264452934265\n",
      "Epoch:300, Loss:2.1102455854415894\n",
      "Epoch:400, Loss:2.04721086025238\n",
      "Epoch:500, Loss:1.9546745252609252\n",
      "Epoch:600, Loss:1.8410487580299377\n",
      "Epoch:700, Loss:1.7350003623962402\n",
      "Epoch:800, Loss:1.6558413088321686\n",
      "Epoch:900, Loss:1.6006212556362152\n",
      "Epoch:1000, Loss:1.5612042433023452\n"
     ]
    }
   ],
   "source": [
    "import torch.optim as optim\n",
    "\n",
    "learning_rate = 0.001\n",
    "epochs = 1000\n",
    "criterion = nn.CrossEntropyLoss()\n",
    "optimizer = optim.SGD(skipgram_model.parameters(), lr=learning_rate)\n",
    "loss_values = []\n",
    "for epoch in range(epochs):\n",
    "    loss_sum = 0\n",
    "    for context, target in skipgram_data:\n",
    "        X = one_hot_encoding(target, word_to_idx).float().unsqueeze(0)\n",
    "        y_true= torch.tensor([word_to_idx[context]], dtype=torch.long)\n",
    "        y_pred = skipgram_model(X)\n",
    "        loss = criterion(y_pred, y_true)\n",
    "        loss_sum += loss.item()\n",
    "        optimizer.zero_grad()\n",
    "        loss.backward()\n",
    "        optimizer.step()\n",
    "    if (epoch + 1) % 100 == 0:\n",
    "        print(f\"Epoch:{epoch+1}, Loss:{loss_sum/len(skipgram_data)}\")\n",
    "        loss_values.append(loss_sum / len(skipgram_data))\n",
    "\n",
    "\n"
   ],
   "metadata": {
    "collapsed": false,
    "ExecuteTime": {
     "end_time": "2024-03-13T09:25:12.432568Z",
     "start_time": "2024-03-13T09:25:09.978631Z"
    }
   },
   "id": "a2179d8445a012f4",
   "execution_count": 19
  },
  {
   "cell_type": "code",
   "outputs": [
    {
     "data": {
      "text/plain": "<Figure size 640x480 with 1 Axes>",
      "image/png": "[encoded data removed]"
     },
     "metadata": {},
     "output_type": "display_data"
    }
   ],
   "source": [
    "import matplotlib.pyplot as plt\n",
    "\n",
    "plt.rcParams[\"font.family\"] = [\"Arial Unicode MS\"]\n",
    "plt.rcParams[\"font.sans-serif\"] = [\"Arial Unicode MS\"]\n",
    "plt.rcParams[\"axes.unicode_minus\"] = False\n",
    "\n",
    "plt.plot(range(1, epochs//100 + 1), loss_values)\n",
    "plt.title(\"训练损失曲线\")\n",
    "plt.xlabel(\"轮次\")\n",
    "plt.ylabel(\"损失\")\n",
    "plt.show()"
   ],
   "metadata": {
    "collapsed": false,
    "ExecuteTime": {
     "end_time": "2024-03-13T09:27:22.957602Z",
     "start_time": "2024-03-13T09:27:22.200353Z"
    }
   },
   "id": "2078453ea66ded49",
   "execution_count": 20
  },
  {
   "cell_type": "code",
   "outputs": [],
   "source": [],
   "metadata": {
    "collapsed": false
   },
   "id": "36cecf1a673503d8"
  }
 ],
 "metadata": {
  "kernelspec": {
   "display_name": "Python 3",
   "language": "python",
   "name": "python3"
  },
  "language_info": {
   "codemirror_mode": {
    "name": "ipython",
    "version": 2
   },
   "file_extension": ".py",
   "mimetype": "text/x-python",
   "name": "python",
   "nbconvert_exporter": "python",
   "pygments_lexer": "ipython2",
   "version": "2.7.6"
  }
 },
 "nbformat": 4,
 "nbformat_minor": 5
}
