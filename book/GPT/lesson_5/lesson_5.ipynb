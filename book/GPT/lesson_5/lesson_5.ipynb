{
 "cells": [
  {
   "cell_type": "markdown",
   "source": [
    "# 向量点击注意力"
   ],
   "metadata": {
    "collapsed": false
   },
   "id": "64374df16871af7c"
  },
  {
   "cell_type": "code",
   "source": [
    "import torch\n",
    "import torch.nn.functional as F\n",
    "\n",
    "x1 = torch.randn(2, 3, 4)\n",
    "x2 = torch.randn(2, 5, 4)\n",
    "\n",
    "raw_weights = torch.bmm(x1, x2.transpose(1, 2))\n",
    "print(raw_weights)\n",
    "\n",
    "attn_weights = F.softmax(raw_weights, dim=2)\n",
    "print(attn_weights)\n",
    "\n",
    "attn_output = torch.bmm(attn_weights, x2)\n",
    "print(attn_output)"
   ],
   "metadata": {
    "collapsed": false,
    "ExecuteTime": {
     "end_time": "2024-03-26T07:44:27.124546Z",
     "start_time": "2024-03-26T07:44:20.932661Z"
    }
   },
   "id": "e242ae97e792689d",
   "execution_count": 1,
   "outputs": []
  },
  {
   "cell_type": "markdown",
   "source": [
    "# 缩放向量点积注意力"
   ],
   "metadata": {
    "collapsed": false
   },
   "id": "eabb665bed4be000"
  },
  {
   "cell_type": "code",
   "source": [
    "import torch\n",
    "import torch.nn.functional as F\n",
    "\n",
    "x1 = torch.randn(2, 3, 4)\n",
    "x2 = torch.randn(2, 5, 4)\n",
    "\n",
    "raw_weights = torch.bmm(x1, x2.transpose(1, 2))\n",
    "print(raw_weights)\n",
    "\n",
    "scale_factor = x1.size(-1)**5\n",
    "scaled_weights = raw_weights / scale_factor\n",
    "print(scaled_weights)\n",
    "\n",
    "attn_weights = F.softmax(raw_weights, dim=2)\n",
    "print(attn_weights)\n",
    "\n",
    "attn_output = torch.bmm(attn_weights, x2)\n",
    "print(attn_output)"
   ],
   "metadata": {
    "collapsed": false,
    "ExecuteTime": {
     "end_time": "2024-03-26T07:59:04.000874Z",
     "start_time": "2024-03-26T07:59:03.986951Z"
    }
   },
   "id": "e854436393d552a1",
   "execution_count": 3,
   "outputs": []
  },
  {
   "cell_type": "code",
   "source": [
    "x1.size(-1)**0.5"
   ],
   "metadata": {
    "collapsed": false,
    "ExecuteTime": {
     "end_time": "2024-03-26T08:00:24.034523Z",
     "start_time": "2024-03-26T08:00:24.028778Z"
    }
   },
   "id": "4ea1fedd7ad7910b",
   "execution_count": 7,
   "outputs": []
  },
  {
   "cell_type": "code",
   "source": [
    "%reset -f\n",
    "sentences = [\n",
    "    [\"咖哥 喜欢 小冰\", \"<sos> KaGe likes XiaoBing\", \"KaGe likes XiaoBing <eos>\"],\n",
    "    [\"我 爱 学习 人工智能\", \"<sos> I love studying AI\", \"I love studying AI <eos>\"],\n",
    "    [\"深度学习 改变 世界\", \"<sos> DL changed the world\", \"DL changed the world <eos>\"],\n",
    "    [\"自然 语言 处理 很 强大\", \"<sos> NLP is so powerful\", \"NLP is so powerful <eos>\"],\n",
    "    [\"神经网络 非常 复杂\", \"<sos> Neural-Nets are complex\", \"Neural-Nets are complex <eos>\"]\n",
    "]\n",
    "word_list_cn, word_list_en = [], []\n",
    "for s in sentences:\n",
    "    word_list_cn.extend(s[0].split())\n",
    "    word_list_en.extend(s[1].split())\n",
    "    word_list_en.extend(s[2].split())\n",
    "word_list_cn = list(set(word_list_cn))\n",
    "word_list_en = list(set(word_list_en))\n",
    "\n",
    "word_2_idx_cn = {w: i for i, w in enumerate(word_list_cn)}\n",
    "word_2_idx_en = {w: i for i, w in enumerate(word_list_en)}\n",
    "\n",
    "idx_2_word_cn = {i: w for i, w in enumerate(word_list_cn)}\n",
    "idx_2_word_en = {i: w for i, w in enumerate(word_list_en)}\n",
    "\n",
    "voc_size_cn = len(word_list_cn)\n",
    "voc_size_en = len(word_list_en)\n",
    "\n",
    "print(f\"句子数量: {len(sentences)}\")\n",
    "print(f\"中文词汇表大小: {voc_size_cn}\")\n",
    "print(f\"英文词汇表大小: {voc_size_en}\")\n",
    "print(f\"中文词汇到索引: {word_2_idx_cn}\")\n",
    "print(f\"英文词汇到索引: {word_2_idx_en}\")"
   ],
   "metadata": {
    "collapsed": false,
    "ExecuteTime": {
     "end_time": "2024-03-26T09:12:29.793584Z",
     "start_time": "2024-03-26T09:12:29.723136Z"
    }
   },
   "id": "921e21b992e4b77a",
   "execution_count": 1,
   "outputs": []
  },
  {
   "cell_type": "code",
   "source": [
    "import numpy as np\n",
    "import torch\n",
    "import random\n",
    "\n",
    "def make_data(sentences):\n",
    "    random_sentence = random.choice(sentences)\n",
    "    encoder_input = np.array([[word_2_idx_cn[w] for w in random_sentence[0].split()]])\n",
    "    decoder_input = np.array([[word_2_idx_en[w] for w in random_sentence[1].split()]])\n",
    "    target = np.array([[word_2_idx_en[w] for w in random_sentence[2].split()]])\n",
    "    encoder_input = torch.LongTensor(encoder_input)\n",
    "    decoder_input = torch.LongTensor(decoder_input)\n",
    "    target = torch.LongTensor(target)\n",
    "    return encoder_input, decoder_input, target\n",
    "\n",
    "encoder_input, decoder_input, target = make_data(sentences)"
   ],
   "metadata": {
    "collapsed": false,
    "ExecuteTime": {
     "end_time": "2024-03-26T09:12:30.566348Z",
     "start_time": "2024-03-26T09:12:29.794675Z"
    }
   },
   "id": "36d6ec5e6a2b02f7",
   "execution_count": 2,
   "outputs": []
  },
  {
   "cell_type": "markdown",
   "source": [
    "# 1. 定义 Attention 类"
   ],
   "metadata": {
    "collapsed": false
   },
   "id": "ec0a2daae7ef746a"
  },
  {
   "cell_type": "code",
   "source": [
    "import torch.nn as nn\n",
    "\n",
    "class Attention(nn.Module):\n",
    "    \n",
    "    def __init__(self):\n",
    "        super().__init__()\n",
    "    \n",
    "    def forward(self, decoder_context, encoder_context):\n",
    "        scores = torch.matmul(decoder_context, encoder_context.transpose(-2, -1))\n",
    "        attn_weights = nn.functional.softmax(scores, dim=-1)\n",
    "        context = torch.matmul(attn_weights, encoder_context)\n",
    "        return context, attn_weights"
   ],
   "metadata": {
    "collapsed": false,
    "ExecuteTime": {
     "end_time": "2024-03-26T09:12:32.103216Z",
     "start_time": "2024-03-26T09:12:32.100027Z"
    }
   },
   "id": "30d8d9aed92b34b1",
   "execution_count": 3,
   "outputs": []
  },
  {
   "cell_type": "markdown",
   "source": [
    "# 2. 重构 Decoder 类"
   ],
   "metadata": {
    "collapsed": false
   },
   "id": "ce5a02bb40a7139a"
  },
  {
   "cell_type": "code",
   "source": [
    "import torch.nn as nn\n",
    "\n",
    "class Encoder(nn.Module):\n",
    "    def __init__(self, input_size, hidden_size):\n",
    "        super().__init__() \n",
    "        self.hidden_size = hidden_size\n",
    "        self.embedding  = nn.Embedding(input_size, hidden_size)\n",
    "        self.rnn = nn.RNN(hidden_size, hidden_size, batch_first=True)\n",
    "        \n",
    "    def forward(self, inputs, hidden):\n",
    "        embedded = self.embedding(inputs)\n",
    "        output, hidden = self.rnn(embedded, hidden)\n",
    "        return output, hidden\n",
    "\n",
    "class DecoderWithAttention(nn.Module):\n",
    "    \n",
    "    def __init__(self, hidden_size, output_size):\n",
    "        super().__init__()\n",
    "        self.hidden_size = hidden_size\n",
    "        self.embedding = nn.Embedding(output_size, hidden_size)\n",
    "        self.rnn = nn.RNN(hidden_size, hidden_size, batch_first=True)\n",
    "        self.attention = Attention()\n",
    "        self.out = nn.Linear(2*hidden_size, output_size)\n",
    "    \n",
    "    def forward(self, dec_input, hidden, enc_output):\n",
    "        embedded = self.embedding(dec_input)\n",
    "        rnn_output, hidden = self.rnn(embedded, hidden)\n",
    "        context, attn_weights = self.attention(rnn_output, enc_output)\n",
    "        dec_output = torch.cat((rnn_output, context), dim=-1)\n",
    "        dec_output = self.out(dec_output)\n",
    "        return dec_output, hidden, attn_weights\n",
    "\n",
    "n_hidden = 128\n",
    "encoder = Encoder(voc_size_cn, n_hidden)\n",
    "print(f\"编码器: {encoder}\")\n",
    "decoder = DecoderWithAttention(n_hidden, voc_size_en)\n",
    "print(f\"解码器: {decoder}\")"
   ],
   "metadata": {
    "collapsed": false,
    "ExecuteTime": {
     "end_time": "2024-03-26T09:12:33.427294Z",
     "start_time": "2024-03-26T09:12:33.414665Z"
    }
   },
   "id": "aa60154336407b35",
   "execution_count": 4,
   "outputs": []
  },
  {
   "cell_type": "markdown",
   "source": [
    "# 重构 Seq2Seq 类"
   ],
   "metadata": {
    "collapsed": false
   },
   "id": "411ab046c5c61ed5"
  },
  {
   "cell_type": "code",
   "source": [
    "class Seq2Seq(nn.Module):\n",
    "    \n",
    "    def __init__(self, encoder, decoder):\n",
    "        super().__init__()\n",
    "        self.encoder = encoder\n",
    "        self.decoder = decoder\n",
    "        \n",
    "    def forward(self, encoder_input, hidden, decoder_input):\n",
    "        encoder_output, encoder_hidden = self.encoder(encoder_input, hidden)\n",
    "        decoder_hidden = encoder_hidden\n",
    "        decoder_output, _, attn_weights = self.decoder(decoder_input, decoder_hidden, encoder_output)\n",
    "        return decoder_output, attn_weights\n",
    "\n",
    "model = Seq2Seq(encoder, decoder)\n",
    "\n",
    "print(model)"
   ],
   "metadata": {
    "collapsed": false,
    "ExecuteTime": {
     "end_time": "2024-03-26T09:12:34.973103Z",
     "start_time": "2024-03-26T09:12:34.967264Z"
    }
   },
   "id": "89b50cbbcbb7b366",
   "execution_count": 5,
   "outputs": []
  },
  {
   "cell_type": "code",
   "source": [
    "def train_seq2seq(model, creterion, optimizer, epochs):\n",
    "    for epoch in range(epochs):\n",
    "        encoder_input, decoder_input, target = make_data(sentences)\n",
    "        hidden = torch.zeros(1, encoder_input.size(0), n_hidden)\n",
    "        optimizer.zero_grad()\n",
    "        output, _ = model(encoder_input, hidden, decoder_input)\n",
    "        loss = creterion(output.view(-1, voc_size_en), target.view(-1))\n",
    "        if (epoch + 1) % 100 == 0:\n",
    "            print(f\"Epoch: {epoch+1}, Loss: {loss:.10f}\")\n",
    "        loss.backward()\n",
    "        optimizer.step()\n",
    "\n",
    "epochs = 10000\n",
    "criterion = nn.CrossEntropyLoss()\n",
    "optimizer = torch.optim.Adam(model.parameters(), lr=0.001)\n",
    "train_seq2seq(model, criterion, optimizer, epochs)"
   ],
   "metadata": {
    "collapsed": false,
    "ExecuteTime": {
     "end_time": "2024-03-26T09:12:54.159953Z",
     "start_time": "2024-03-26T09:12:35.955275Z"
    }
   },
   "id": "b1b8fd4b45fbdec",
   "execution_count": 6,
   "outputs": []
  },
  {
   "cell_type": "code",
   "source": [
    "import matplotlib.pyplot as plt\n",
    "import seaborn as sns\n",
    "plt.rcParams[\"font.family\"] = [\"Arial Unicode MS\"]\n",
    "plt.rcParams[\"font.sans-serif\"] = [\"Arial Unicode MS\"]\n",
    "plt.rcParams[\"axes.unicode_minus\"] = False\n",
    "\n",
    "def visualize_attention(source_sentence, predicted_sentence, atten_weights):\n",
    "    plt.figure(figsize=(10, 10))\n",
    "    ax = sns.heatmap(atten_weights, annot=True, cbar=False,\n",
    "                     xticklabels=source_sentence.split(),\n",
    "                     yticklabels=predicted_sentence,\n",
    "                     cmap=\"Greens\")\n",
    "    plt.xlabel(\"源序列\")\n",
    "    plt.ylabel(\"目标序列\")\n",
    "    plt.show()"
   ],
   "metadata": {
    "collapsed": false,
    "ExecuteTime": {
     "end_time": "2024-03-26T09:13:10.029815Z",
     "start_time": "2024-03-26T09:13:10.012962Z"
    }
   },
   "id": "650aaa88a56deb14",
   "execution_count": 7,
   "outputs": []
  },
  {
   "cell_type": "code",
   "source": [
    "def test_seq2seq(model, source_sentence):\n",
    "    encoder_input = np.array([[word_2_idx_cn[w] for w in source_sentence.split()]])\n",
    "    decoder_input = np.array([word_2_idx_en[\"<sos>\"]] + [word_2_idx_en[\"<eos>\"]]*(len(encoder_input[0])-1))\n",
    "    encoder_input = torch.LongTensor(encoder_input)\n",
    "    decoder_input = torch.LongTensor(decoder_input).unsqueeze(0)\n",
    "    hidden = torch.zeros(1, encoder_input.size(0), n_hidden)\n",
    "    predict,  attn_weights = model(encoder_input, hidden, decoder_input)\n",
    "    predict = predict.data.max(2, keepdim=True)[1]\n",
    "    print(f\"{source_sentence} -> {[idx_2_word_en[n.item()] for n in predict.squeeze()]}\")\n",
    "    attn_weights = attn_weights.squeeze(0).detach().numpy()\n",
    "    visualize_attention(source_sentence, [idx_2_word_en[n.item()] for n in predict.squeeze()], attn_weights)\n",
    "\n",
    "test_seq2seq(model, \"咖哥 喜欢 小冰\")\n",
    "test_seq2seq(model, \"自然 语言 处理 很 强大\")"
   ],
   "metadata": {
    "collapsed": false,
    "ExecuteTime": {
     "end_time": "2024-03-26T09:13:11.169603Z",
     "start_time": "2024-03-26T09:13:10.864399Z"
    }
   },
   "id": "4c629e42364e5848",
   "execution_count": 8,
   "outputs": []
  },
  {
   "cell_type": "code",
   "source": [],
   "metadata": {
    "collapsed": false
   },
   "id": "ccf289962de0aebb",
   "execution_count": null,
   "outputs": []
  }
 ],
 "metadata": {
  "kernelspec": {
   "display_name": "Python 3",
   "language": "python",
   "name": "python3"
  },
  "language_info": {
   "codemirror_mode": {
    "name": "ipython",
    "version": 2
   },
   "file_extension": ".py",
   "mimetype": "text/x-python",
   "name": "python",
   "nbconvert_exporter": "python",
   "pygments_lexer": "ipython2",
   "version": "2.7.6"
  }
 },
 "nbformat": 4,
 "nbformat_minor": 5
}
