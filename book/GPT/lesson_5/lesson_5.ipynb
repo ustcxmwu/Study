{
 "cells": [
  {
   "cell_type": "markdown",
   "source": [
    "# 向量点击注意力"
   ],
   "metadata": {
    "collapsed": false
   },
   "id": "64374df16871af7c"
  },
  {
   "cell_type": "code",
   "outputs": [
    {
     "name": "stdout",
     "output_type": "stream",
     "text": [
      "tensor([[[ 0.3333, -2.2001,  2.2486, -0.8846, -0.3558],\n",
      "         [-0.4180,  1.3982, -1.8591, -0.6430,  0.9360],\n",
      "         [ 1.0270,  2.0279,  0.2964, -0.4284, -2.2356]],\n",
      "\n",
      "        [[ 0.4519,  2.2074,  1.2542,  4.2554, -1.0178],\n",
      "         [ 1.1710,  1.2589, -1.0832, -0.7314, -1.5427],\n",
      "         [-1.3542, -0.2371,  1.0645, -0.8977,  0.7781]]])\n",
      "tensor([[[0.1154, 0.0092, 0.7834, 0.0341, 0.0579],\n",
      "         [0.0829, 0.5100, 0.0196, 0.0662, 0.3212],\n",
      "         [0.2235, 0.6081, 0.1077, 0.0521, 0.0086]],\n",
      "\n",
      "        [[0.0185, 0.1069, 0.0412, 0.8291, 0.0043],\n",
      "         [0.4145, 0.4526, 0.0435, 0.0619, 0.0275],\n",
      "         [0.0395, 0.1208, 0.4439, 0.0624, 0.3334]]])\n",
      "tensor([[[-0.2393,  1.7228,  0.3522, -0.0884],\n",
      "         [ 0.4250, -0.7208, -0.3677, -0.4187],\n",
      "         [ 0.5571, -0.0916, -0.6291, -0.9572]],\n",
      "\n",
      "        [[-1.4887, -0.7217, -1.1843, -0.1904],\n",
      "         [-0.9828, -1.6027, -0.7789, -0.0550],\n",
      "         [-0.4734, -0.4829, -1.5558,  0.6575]]])\n"
     ]
    }
   ],
   "source": [
    "import torch\n",
    "import torch.nn.functional as F\n",
    "\n",
    "x1 = torch.randn(2, 3, 4)\n",
    "x2 = torch.randn(2, 5, 4)\n",
    "\n",
    "raw_weights = torch.bmm(x1, x2.transpose(1, 2))\n",
    "print(raw_weights)\n",
    "\n",
    "attn_weights = F.softmax(raw_weights, dim=2)\n",
    "print(attn_weights)\n",
    "\n",
    "attn_output = torch.bmm(attn_weights, x2)\n",
    "print(attn_output)"
   ],
   "metadata": {
    "collapsed": false,
    "ExecuteTime": {
     "end_time": "2024-03-26T07:44:27.124546Z",
     "start_time": "2024-03-26T07:44:20.932661Z"
    }
   },
   "id": "e242ae97e792689d",
   "execution_count": 1
  },
  {
   "cell_type": "markdown",
   "source": [
    "# 缩放向量点积注意力"
   ],
   "metadata": {
    "collapsed": false
   },
   "id": "eabb665bed4be000"
  },
  {
   "cell_type": "code",
   "outputs": [
    {
     "name": "stdout",
     "output_type": "stream",
     "text": [
      "tensor([[[ 3.3367e-01, -1.0050e+00,  1.5537e+00,  1.0320e+00,  5.1897e-01],\n",
      "         [-1.2600e+00,  3.1312e+00,  6.1341e-01,  1.2293e+00,  4.3964e-01],\n",
      "         [-3.1846e+00,  6.7512e+00,  4.7322e+00,  2.0783e+00,  3.3038e+00]],\n",
      "\n",
      "        [[ 1.6897e+00, -1.3332e+00,  6.1474e-02,  1.6162e+00,  8.3588e-01],\n",
      "         [ 4.4416e-01, -2.5810e-03,  1.0998e-02, -6.2443e-01,  3.7046e-02],\n",
      "         [ 2.2747e+00, -8.7907e-02,  1.8418e+00,  2.4764e+00,  1.1056e+00]]])\n",
      "tensor([[[ 3.2585e-04, -9.8143e-04,  1.5172e-03,  1.0078e-03,  5.0681e-04],\n",
      "         [-1.2304e-03,  3.0578e-03,  5.9904e-04,  1.2005e-03,  4.2933e-04],\n",
      "         [-3.1099e-03,  6.5930e-03,  4.6213e-03,  2.0295e-03,  3.2263e-03]],\n",
      "\n",
      "        [[ 1.6501e-03, -1.3019e-03,  6.0033e-05,  1.5784e-03,  8.1629e-04],\n",
      "         [ 4.3375e-04, -2.5205e-06,  1.0740e-05, -6.0980e-04,  3.6178e-05],\n",
      "         [ 2.2214e-03, -8.5847e-05,  1.7986e-03,  2.4184e-03,  1.0797e-03]]])\n",
      "tensor([[[1.2717e-01, 3.3345e-02, 4.3076e-01, 2.5566e-01, 1.5306e-01],\n",
      "         [9.4548e-03, 7.6331e-01, 6.1552e-02, 1.1395e-01, 5.1734e-02],\n",
      "         [4.1236e-05, 8.5178e-01, 1.1311e-01, 7.9596e-03, 2.7110e-02]],\n",
      "\n",
      "        [[3.8463e-01, 1.8717e-02, 7.5494e-02, 3.5739e-01, 1.6377e-01],\n",
      "         [3.0329e-01, 1.9401e-01, 1.9667e-01, 1.0418e-01, 2.0186e-01],\n",
      "         [3.0516e-01, 2.8739e-02, 1.9794e-01, 3.7336e-01, 9.4801e-02]]])\n",
      "tensor([[[-0.6046, -0.9800, -0.8320, -0.6889],\n",
      "         [-1.3779, -0.5957, -1.0446, -1.3469],\n",
      "         [-1.3675, -0.6177, -0.9639, -1.5092]],\n",
      "\n",
      "        [[ 1.5336, -0.4991,  0.6749, -0.3044],\n",
      "         [ 1.0429, -0.4683,  0.3021, -0.4146],\n",
      "         [ 1.5766, -0.5084,  0.5443, -0.3643]]])\n"
     ]
    }
   ],
   "source": [
    "import torch\n",
    "import torch.nn.functional as F\n",
    "\n",
    "x1 = torch.randn(2, 3, 4)\n",
    "x2 = torch.randn(2, 5, 4)\n",
    "\n",
    "raw_weights = torch.bmm(x1, x2.transpose(1, 2))\n",
    "print(raw_weights)\n",
    "\n",
    "scale_factor = x1.size(-1)**5\n",
    "scaled_weights = raw_weights / scale_factor\n",
    "print(scaled_weights)\n",
    "\n",
    "attn_weights = F.softmax(raw_weights, dim=2)\n",
    "print(attn_weights)\n",
    "\n",
    "attn_output = torch.bmm(attn_weights, x2)\n",
    "print(attn_output)"
   ],
   "metadata": {
    "collapsed": false,
    "ExecuteTime": {
     "end_time": "2024-03-26T07:59:04.000874Z",
     "start_time": "2024-03-26T07:59:03.986951Z"
    }
   },
   "id": "e854436393d552a1",
   "execution_count": 3
  },
  {
   "cell_type": "code",
   "outputs": [
    {
     "data": {
      "text/plain": "2.0"
     },
     "execution_count": 7,
     "metadata": {},
     "output_type": "execute_result"
    }
   ],
   "source": [
    "x1.size(-1)**0.5"
   ],
   "metadata": {
    "collapsed": false,
    "ExecuteTime": {
     "end_time": "2024-03-26T08:00:24.034523Z",
     "start_time": "2024-03-26T08:00:24.028778Z"
    }
   },
   "id": "4ea1fedd7ad7910b",
   "execution_count": 7
  },
  {
   "cell_type": "code",
   "outputs": [
    {
     "name": "stdout",
     "output_type": "stream",
     "text": [
      "句子数量: 5\n",
      "中文词汇表大小: 18\n",
      "英文词汇表大小: 20\n",
      "中文词汇到索引: {'咖哥': 0, '语言': 1, '神经网络': 2, '喜欢': 3, '自然': 4, '复杂': 5, '很': 6, '深度学习': 7, '爱': 8, '改变': 9, '非常': 10, '世界': 11, '我': 12, '处理': 13, '强大': 14, '小冰': 15, '人工智能': 16, '学习': 17}\n",
      "英文词汇到索引: {'powerful': 0, 'AI': 1, 'love': 2, 'XiaoBing': 3, 'the': 4, 'studying': 5, 'world': 6, 'I': 7, 'complex': 8, 'so': 9, 'DL': 10, 'NLP': 11, 'is': 12, 'likes': 13, 'Neural-Nets': 14, '<eos>': 15, 'are': 16, '<sos>': 17, 'KaGe': 18, 'changed': 19}\n"
     ]
    }
   ],
   "source": [
    "%reset -f\n",
    "sentences = [\n",
    "    [\"咖哥 喜欢 小冰\", \"<sos> KaGe likes XiaoBing\", \"KaGe likes XiaoBing <eos>\"],\n",
    "    [\"我 爱 学习 人工智能\", \"<sos> I love studying AI\", \"I love studying AI <eos>\"],\n",
    "    [\"深度学习 改变 世界\", \"<sos> DL changed the world\", \"DL changed the world <eos>\"],\n",
    "    [\"自然 语言 处理 很 强大\", \"<sos> NLP is so powerful\", \"NLP is so powerful <eos>\"],\n",
    "    [\"神经网络 非常 复杂\", \"<sos> Neural-Nets are complex\", \"Neural-Nets are complex <eos>\"]\n",
    "]\n",
    "word_list_cn, word_list_en = [], []\n",
    "for s in sentences:\n",
    "    word_list_cn.extend(s[0].split())\n",
    "    word_list_en.extend(s[1].split())\n",
    "    word_list_en.extend(s[2].split())\n",
    "word_list_cn = list(set(word_list_cn))\n",
    "word_list_en = list(set(word_list_en))\n",
    "\n",
    "word_2_idx_cn = {w: i for i, w in enumerate(word_list_cn)}\n",
    "word_2_idx_en = {w: i for i, w in enumerate(word_list_en)}\n",
    "\n",
    "idx_2_word_cn = {i: w for i, w in enumerate(word_list_cn)}\n",
    "idx_2_word_en = {i: w for i, w in enumerate(word_list_en)}\n",
    "\n",
    "voc_size_cn = len(word_list_cn)\n",
    "voc_size_en = len(word_list_en)\n",
    "\n",
    "print(f\"句子数量: {len(sentences)}\")\n",
    "print(f\"中文词汇表大小: {voc_size_cn}\")\n",
    "print(f\"英文词汇表大小: {voc_size_en}\")\n",
    "print(f\"中文词汇到索引: {word_2_idx_cn}\")\n",
    "print(f\"英文词汇到索引: {word_2_idx_en}\")"
   ],
   "metadata": {
    "collapsed": false,
    "ExecuteTime": {
     "end_time": "2024-03-26T09:12:29.793584Z",
     "start_time": "2024-03-26T09:12:29.723136Z"
    }
   },
   "id": "921e21b992e4b77a",
   "execution_count": 1
  },
  {
   "cell_type": "code",
   "outputs": [],
   "source": [
    "import numpy as np\n",
    "import torch\n",
    "import random\n",
    "\n",
    "def make_data(sentences):\n",
    "    random_sentence = random.choice(sentences)\n",
    "    encoder_input = np.array([[word_2_idx_cn[w] for w in random_sentence[0].split()]])\n",
    "    decoder_input = np.array([[word_2_idx_en[w] for w in random_sentence[1].split()]])\n",
    "    target = np.array([[word_2_idx_en[w] for w in random_sentence[2].split()]])\n",
    "    encoder_input = torch.LongTensor(encoder_input)\n",
    "    decoder_input = torch.LongTensor(decoder_input)\n",
    "    target = torch.LongTensor(target)\n",
    "    return encoder_input, decoder_input, target\n",
    "\n",
    "encoder_input, decoder_input, target = make_data(sentences)"
   ],
   "metadata": {
    "collapsed": false,
    "ExecuteTime": {
     "end_time": "2024-03-26T09:12:30.566348Z",
     "start_time": "2024-03-26T09:12:29.794675Z"
    }
   },
   "id": "36d6ec5e6a2b02f7",
   "execution_count": 2
  },
  {
   "cell_type": "markdown",
   "source": [
    "# 1. 定义 Attention 类"
   ],
   "metadata": {
    "collapsed": false
   },
   "id": "ec0a2daae7ef746a"
  },
  {
   "cell_type": "code",
   "outputs": [],
   "source": [
    "import torch.nn as nn\n",
    "\n",
    "class Attention(nn.Module):\n",
    "    \n",
    "    def __init__(self):\n",
    "        super().__init__()\n",
    "    \n",
    "    def forward(self, decoder_context, encoder_context):\n",
    "        scores = torch.matmul(decoder_context, encoder_context.transpose(-2, -1))\n",
    "        attn_weights = nn.functional.softmax(scores, dim=-1)\n",
    "        context = torch.matmul(attn_weights, encoder_context)\n",
    "        return context, attn_weights"
   ],
   "metadata": {
    "collapsed": false,
    "ExecuteTime": {
     "end_time": "2024-03-26T09:12:32.103216Z",
     "start_time": "2024-03-26T09:12:32.100027Z"
    }
   },
   "id": "30d8d9aed92b34b1",
   "execution_count": 3
  },
  {
   "cell_type": "markdown",
   "source": [
    "# 2. 重构 Decoder 类"
   ],
   "metadata": {
    "collapsed": false
   },
   "id": "ce5a02bb40a7139a"
  },
  {
   "cell_type": "code",
   "outputs": [
    {
     "name": "stdout",
     "output_type": "stream",
     "text": [
      "编码器: Encoder(\n",
      "  (embedding): Embedding(18, 128)\n",
      "  (rnn): RNN(128, 128, batch_first=True)\n",
      ")\n",
      "解码器: DecoderWithAttention(\n",
      "  (embedding): Embedding(20, 128)\n",
      "  (rnn): RNN(128, 128, batch_first=True)\n",
      "  (attention): Attention()\n",
      "  (out): Linear(in_features=256, out_features=20, bias=True)\n",
      ")\n"
     ]
    }
   ],
   "source": [
    "import torch.nn as nn\n",
    "\n",
    "class Encoder(nn.Module):\n",
    "    def __init__(self, input_size, hidden_size):\n",
    "        super().__init__() \n",
    "        self.hidden_size = hidden_size\n",
    "        self.embedding  = nn.Embedding(input_size, hidden_size)\n",
    "        self.rnn = nn.RNN(hidden_size, hidden_size, batch_first=True)\n",
    "        \n",
    "    def forward(self, inputs, hidden):\n",
    "        embedded = self.embedding(inputs)\n",
    "        output, hidden = self.rnn(embedded, hidden)\n",
    "        return output, hidden\n",
    "\n",
    "class DecoderWithAttention(nn.Module):\n",
    "    \n",
    "    def __init__(self, hidden_size, output_size):\n",
    "        super().__init__()\n",
    "        self.hidden_size = hidden_size\n",
    "        self.embedding = nn.Embedding(output_size, hidden_size)\n",
    "        self.rnn = nn.RNN(hidden_size, hidden_size, batch_first=True)\n",
    "        self.attention = Attention()\n",
    "        self.out = nn.Linear(2*hidden_size, output_size)\n",
    "    \n",
    "    def forward(self, dec_input, hidden, enc_output):\n",
    "        embedded = self.embedding(dec_input)\n",
    "        rnn_output, hidden = self.rnn(embedded, hidden)\n",
    "        context, attn_weights = self.attention(rnn_output, enc_output)\n",
    "        dec_output = torch.cat((rnn_output, context), dim=-1)\n",
    "        dec_output = self.out(dec_output)\n",
    "        return dec_output, hidden, attn_weights\n",
    "\n",
    "n_hidden = 128\n",
    "encoder = Encoder(voc_size_cn, n_hidden)\n",
    "print(f\"编码器: {encoder}\")\n",
    "decoder = DecoderWithAttention(n_hidden, voc_size_en)\n",
    "print(f\"解码器: {decoder}\")"
   ],
   "metadata": {
    "collapsed": false,
    "ExecuteTime": {
     "end_time": "2024-03-26T09:12:33.427294Z",
     "start_time": "2024-03-26T09:12:33.414665Z"
    }
   },
   "id": "aa60154336407b35",
   "execution_count": 4
  },
  {
   "cell_type": "markdown",
   "source": [
    "# 重构 Seq2Seq 类"
   ],
   "metadata": {
    "collapsed": false
   },
   "id": "411ab046c5c61ed5"
  },
  {
   "cell_type": "code",
   "outputs": [
    {
     "name": "stdout",
     "output_type": "stream",
     "text": [
      "Seq2Seq(\n",
      "  (encoder): Encoder(\n",
      "    (embedding): Embedding(18, 128)\n",
      "    (rnn): RNN(128, 128, batch_first=True)\n",
      "  )\n",
      "  (decoder): DecoderWithAttention(\n",
      "    (embedding): Embedding(20, 128)\n",
      "    (rnn): RNN(128, 128, batch_first=True)\n",
      "    (attention): Attention()\n",
      "    (out): Linear(in_features=256, out_features=20, bias=True)\n",
      "  )\n",
      ")\n"
     ]
    }
   ],
   "source": [
    "class Seq2Seq(nn.Module):\n",
    "    \n",
    "    def __init__(self, encoder, decoder):\n",
    "        super().__init__()\n",
    "        self.encoder = encoder\n",
    "        self.decoder = decoder\n",
    "        \n",
    "    def forward(self, encoder_input, hidden, decoder_input):\n",
    "        encoder_output, encoder_hidden = self.encoder(encoder_input, hidden)\n",
    "        decoder_hidden = encoder_hidden\n",
    "        decoder_output, _, attn_weights = self.decoder(decoder_input, decoder_hidden, encoder_output)\n",
    "        return decoder_output, attn_weights\n",
    "\n",
    "model = Seq2Seq(encoder, decoder)\n",
    "\n",
    "print(model)"
   ],
   "metadata": {
    "collapsed": false,
    "ExecuteTime": {
     "end_time": "2024-03-26T09:12:34.973103Z",
     "start_time": "2024-03-26T09:12:34.967264Z"
    }
   },
   "id": "89b50cbbcbb7b366",
   "execution_count": 5
  },
  {
   "cell_type": "code",
   "outputs": [
    {
     "name": "stdout",
     "output_type": "stream",
     "text": [
      "Epoch: 100, Loss: 0.0272615440\n",
      "Epoch: 200, Loss: 0.0090444554\n",
      "Epoch: 300, Loss: 0.0066235126\n",
      "Epoch: 400, Loss: 0.0037379779\n",
      "Epoch: 500, Loss: 0.0021453858\n",
      "Epoch: 600, Loss: 0.0016583723\n",
      "Epoch: 700, Loss: 0.0018214842\n",
      "Epoch: 800, Loss: 0.0014865668\n",
      "Epoch: 900, Loss: 0.0009100959\n",
      "Epoch: 1000, Loss: 0.0009493972\n",
      "Epoch: 1100, Loss: 0.0008070107\n",
      "Epoch: 1200, Loss: 0.0005178676\n",
      "Epoch: 1300, Loss: 0.0004403264\n",
      "Epoch: 1400, Loss: 0.0005363423\n",
      "Epoch: 1500, Loss: 0.0003673592\n",
      "Epoch: 1600, Loss: 0.0003162081\n",
      "Epoch: 1700, Loss: 0.0003506806\n",
      "Epoch: 1800, Loss: 0.0003072136\n",
      "Epoch: 1900, Loss: 0.0002908275\n",
      "Epoch: 2000, Loss: 0.0002109164\n",
      "Epoch: 2100, Loss: 0.0002201548\n",
      "Epoch: 2200, Loss: 0.0001928857\n",
      "Epoch: 2300, Loss: 0.0001671400\n",
      "Epoch: 2400, Loss: 0.0001782255\n",
      "Epoch: 2500, Loss: 0.0001585653\n",
      "Epoch: 2600, Loss: 0.0001231944\n",
      "Epoch: 2700, Loss: 0.0001355316\n",
      "Epoch: 2800, Loss: 0.0001089747\n",
      "Epoch: 2900, Loss: 0.0000969120\n",
      "Epoch: 3000, Loss: 0.0001100717\n",
      "Epoch: 3100, Loss: 0.0001023716\n",
      "Epoch: 3200, Loss: 0.0000834189\n",
      "Epoch: 3300, Loss: 0.0000902969\n",
      "Epoch: 3400, Loss: 0.0000653541\n",
      "Epoch: 3500, Loss: 0.0000804928\n",
      "Epoch: 3600, Loss: 0.0000625827\n",
      "Epoch: 3700, Loss: 0.0000583393\n",
      "Epoch: 3800, Loss: 0.0000517651\n",
      "Epoch: 3900, Loss: 0.0000612717\n",
      "Epoch: 4000, Loss: 0.0000579936\n",
      "Epoch: 4100, Loss: 0.0000423779\n",
      "Epoch: 4200, Loss: 0.0000418654\n",
      "Epoch: 4300, Loss: 0.0000393860\n",
      "Epoch: 4400, Loss: 0.0000376933\n",
      "Epoch: 4500, Loss: 0.0000427058\n",
      "Epoch: 4600, Loss: 0.0000319475\n",
      "Epoch: 4700, Loss: 0.0000348323\n",
      "Epoch: 4800, Loss: 0.0000327343\n",
      "Epoch: 4900, Loss: 0.0000267621\n",
      "Epoch: 5000, Loss: 0.0000291343\n",
      "Epoch: 5100, Loss: 0.0000248906\n",
      "Epoch: 5200, Loss: 0.0000285204\n",
      "Epoch: 5300, Loss: 0.0000210045\n",
      "Epoch: 5400, Loss: 0.0000241992\n",
      "Epoch: 5500, Loss: 0.0000229118\n",
      "Epoch: 5600, Loss: 0.0000213382\n",
      "Epoch: 5700, Loss: 0.0000171183\n",
      "Epoch: 5800, Loss: 0.0000161646\n",
      "Epoch: 5900, Loss: 0.0000151871\n",
      "Epoch: 6000, Loss: 0.0000144719\n",
      "Epoch: 6100, Loss: 0.0000142096\n",
      "Epoch: 6200, Loss: 0.0000127076\n",
      "Epoch: 6300, Loss: 0.0000145196\n",
      "Epoch: 6400, Loss: 0.0000113963\n",
      "Epoch: 6500, Loss: 0.0000106394\n",
      "Epoch: 6600, Loss: 0.0000129222\n",
      "Epoch: 6700, Loss: 0.0000095367\n",
      "Epoch: 6800, Loss: 0.0000116228\n",
      "Epoch: 6900, Loss: 0.0000086546\n",
      "Epoch: 7000, Loss: 0.0000102519\n",
      "Epoch: 7100, Loss: 0.0000079572\n",
      "Epoch: 7200, Loss: 0.0000075102\n",
      "Epoch: 7300, Loss: 0.0000070631\n",
      "Epoch: 7400, Loss: 0.0000062942\n",
      "Epoch: 7500, Loss: 0.0000059843\n",
      "Epoch: 7600, Loss: 0.0000075340\n",
      "Epoch: 7700, Loss: 0.0000055730\n",
      "Epoch: 7800, Loss: 0.0000050545\n",
      "Epoch: 7900, Loss: 0.0000050366\n",
      "Epoch: 8000, Loss: 0.0000044823\n",
      "Epoch: 8100, Loss: 0.0000057816\n",
      "Epoch: 8200, Loss: 0.0000042915\n",
      "Epoch: 8300, Loss: 0.0000053048\n",
      "Epoch: 8400, Loss: 0.0000050545\n",
      "Epoch: 8500, Loss: 0.0000033855\n",
      "Epoch: 8600, Loss: 0.0000034273\n",
      "Epoch: 8700, Loss: 0.0000030518\n",
      "Epoch: 8800, Loss: 0.0000040293\n",
      "Epoch: 8900, Loss: 0.0000029504\n",
      "Epoch: 9000, Loss: 0.0000036061\n",
      "Epoch: 9100, Loss: 0.0000026524\n",
      "Epoch: 9200, Loss: 0.0000025630\n",
      "Epoch: 9300, Loss: 0.0000021934\n",
      "Epoch: 9400, Loss: 0.0000025749\n",
      "Epoch: 9500, Loss: 0.0000029087\n",
      "Epoch: 9600, Loss: 0.0000027895\n",
      "Epoch: 9700, Loss: 0.0000021458\n",
      "Epoch: 9800, Loss: 0.0000016928\n",
      "Epoch: 9900, Loss: 0.0000019312\n",
      "Epoch: 10000, Loss: 0.0000015259\n"
     ]
    }
   ],
   "source": [
    "def train_seq2seq(model, creterion, optimizer, epochs):\n",
    "    for epoch in range(epochs):\n",
    "        encoder_input, decoder_input, target = make_data(sentences)\n",
    "        hidden = torch.zeros(1, encoder_input.size(0), n_hidden)\n",
    "        optimizer.zero_grad()\n",
    "        output, _ = model(encoder_input, hidden, decoder_input)\n",
    "        loss = creterion(output.view(-1, voc_size_en), target.view(-1))\n",
    "        if (epoch + 1) % 100 == 0:\n",
    "            print(f\"Epoch: {epoch+1}, Loss: {loss:.10f}\")\n",
    "        loss.backward()\n",
    "        optimizer.step()\n",
    "\n",
    "epochs = 10000\n",
    "criterion = nn.CrossEntropyLoss()\n",
    "optimizer = torch.optim.Adam(model.parameters(), lr=0.001)\n",
    "train_seq2seq(model, criterion, optimizer, epochs)"
   ],
   "metadata": {
    "collapsed": false,
    "ExecuteTime": {
     "end_time": "2024-03-26T09:12:54.159953Z",
     "start_time": "2024-03-26T09:12:35.955275Z"
    }
   },
   "id": "b1b8fd4b45fbdec",
   "execution_count": 6
  },
  {
   "cell_type": "code",
   "outputs": [],
   "source": [
    "import matplotlib.pyplot as plt\n",
    "import seaborn as sns\n",
    "plt.rcParams[\"font.family\"] = [\"Arial Unicode MS\"]\n",
    "plt.rcParams[\"font.sans-serif\"] = [\"Arial Unicode MS\"]\n",
    "plt.rcParams[\"axes.unicode_minus\"] = False\n",
    "\n",
    "def visualize_attention(source_sentence, predicted_sentence, atten_weights):\n",
    "    plt.figure(figsize=(10, 10))\n",
    "    ax = sns.heatmap(atten_weights, annot=True, cbar=False,\n",
    "                     xticklabels=source_sentence.split(),\n",
    "                     yticklabels=predicted_sentence,\n",
    "                     cmap=\"Greens\")\n",
    "    plt.xlabel(\"源序列\")\n",
    "    plt.ylabel(\"目标序列\")\n",
    "    plt.show()"
   ],
   "metadata": {
    "collapsed": false,
    "ExecuteTime": {
     "end_time": "2024-03-26T09:13:10.029815Z",
     "start_time": "2024-03-26T09:13:10.012962Z"
    }
   },
   "id": "650aaa88a56deb14",
   "execution_count": 7
  },
  {
   "cell_type": "code",
   "outputs": [
    {
     "name": "stdout",
     "output_type": "stream",
     "text": [
      "咖哥 喜欢 小冰 -> ['KaGe', 'likes', 'likes']\n"
     ]
    },
    {
     "data": {
      "text/plain": "<Figure size 1000x1000 with 1 Axes>",
      "image/png": "[encoded data removed]"
     },
     "metadata": {},
     "output_type": "display_data"
    },
    {
     "name": "stdout",
     "output_type": "stream",
     "text": [
      "自然 语言 处理 很 强大 -> ['NLP', 'is', 'so', 'NLP', 'NLP']\n"
     ]
    },
    {
     "data": {
      "text/plain": "<Figure size 1000x1000 with 1 Axes>",
      "image/png": "[encoded data removed]"
     },
     "metadata": {},
     "output_type": "display_data"
    }
   ],
   "source": [
    "def test_seq2seq(model, source_sentence):\n",
    "    encoder_input = np.array([[word_2_idx_cn[w] for w in source_sentence.split()]])\n",
    "    decoder_input = np.array([word_2_idx_en[\"<sos>\"]] + [word_2_idx_en[\"<eos>\"]]*(len(encoder_input[0])-1))\n",
    "    encoder_input = torch.LongTensor(encoder_input)\n",
    "    decoder_input = torch.LongTensor(decoder_input).unsqueeze(0)\n",
    "    hidden = torch.zeros(1, encoder_input.size(0), n_hidden)\n",
    "    predict,  attn_weights = model(encoder_input, hidden, decoder_input)\n",
    "    predict = predict.data.max(2, keepdim=True)[1]\n",
    "    print(f\"{source_sentence} -> {[idx_2_word_en[n.item()] for n in predict.squeeze()]}\")\n",
    "    attn_weights = attn_weights.squeeze(0).detach().numpy()\n",
    "    visualize_attention(source_sentence, [idx_2_word_en[n.item()] for n in predict.squeeze()], attn_weights)\n",
    "\n",
    "test_seq2seq(model, \"咖哥 喜欢 小冰\")\n",
    "test_seq2seq(model, \"自然 语言 处理 很 强大\")"
   ],
   "metadata": {
    "collapsed": false,
    "ExecuteTime": {
     "end_time": "2024-03-26T09:13:11.169603Z",
     "start_time": "2024-03-26T09:13:10.864399Z"
    }
   },
   "id": "4c629e42364e5848",
   "execution_count": 8
  },
  {
   "cell_type": "code",
   "outputs": [],
   "source": [],
   "metadata": {
    "collapsed": false
   },
   "id": "ccf289962de0aebb"
  }
 ],
 "metadata": {
  "kernelspec": {
   "display_name": "Python 3",
   "language": "python",
   "name": "python3"
  },
  "language_info": {
   "codemirror_mode": {
    "name": "ipython",
    "version": 2
   },
   "file_extension": ".py",
   "mimetype": "text/x-python",
   "name": "python",
   "nbconvert_exporter": "python",
   "pygments_lexer": "ipython2",
   "version": "2.7.6"
  }
 },
 "nbformat": 4,
 "nbformat_minor": 5
}
