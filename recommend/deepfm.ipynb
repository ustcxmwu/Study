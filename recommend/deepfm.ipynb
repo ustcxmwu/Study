{
 "cells": [
  {
   "metadata": {},
   "cell_type": "code",
   "outputs": [],
   "execution_count": null,
   "source": "",
   "id": "49653a37cc589daf"
  },
  {
   "metadata": {
    "ExecuteTime": {
     "end_time": "2024-09-09T06:09:07.816245Z",
     "start_time": "2024-09-09T06:06:09.902224Z"
    }
   },
   "cell_type": "code",
   "source": [
    "import torch\n",
    "import torch.nn as nn\n",
    "import torch.optim as optim\n",
    "\n",
    "class DeepFM(nn.Module):\n",
    "    def __init__(self, field_dims, embed_dim, hidden_dims):\n",
    "        super(DeepFM, self).__init__()\n",
    "        self.num_fields = len(field_dims)\n",
    "        self.embeddings = nn.ModuleList([nn.Embedding(field_dim, embed_dim) for field_dim in field_dims])\n",
    "\n",
    "        # FM 部分的一阶部分\n",
    "        self.linear = nn.Embedding(sum(field_dims), 1)\n",
    "        \n",
    "        # DNN 部分\n",
    "        input_dim = self.num_fields * embed_dim\n",
    "        all_dims = [input_dim] + hidden_dims\n",
    "        dnn_layers = []\n",
    "        for i in range(len(all_dims) - 1):\n",
    "            dnn_layers.append(nn.Linear(all_dims[i], all_dims[i + 1]))\n",
    "            dnn_layers.append(nn.ReLU())\n",
    "        self.mlp = nn.Sequential(*dnn_layers)\n",
    "        self.fc = nn.Linear(all_dims[-1], 1)\n",
    "\n",
    "    def forward(self, x):\n",
    "        x = x.long()\n",
    "        # FM 一阶部分\n",
    "        linear_term = self.linear(x).sum(dim=1)\n",
    "\n",
    "        # 嵌入向量\n",
    "        embeds = [self.embeddings[i](x[:, i]) for i in range(self.num_fields)]\n",
    "        embeds = torch.stack(embeds, dim=1)\n",
    "\n",
    "        # FM 二阶交互部分\n",
    "        fm_sum_square = torch.sum(embeds, dim=1) ** 2\n",
    "        fm_square_sum = torch.sum(embeds ** 2, dim=1)\n",
    "        fm_second_order = 0.5 * torch.sum(fm_sum_square - fm_square_sum, dim=1, keepdim=True)\n",
    "\n",
    "        # DNN 部分\n",
    "        dnn_input = embeds.view(embeds.size(0), -1)  # 将嵌入平坦化\n",
    "        dnn_output = self.fc(self.mlp(dnn_input))\n",
    "\n",
    "        # 最终预测\n",
    "        y = torch.sigmoid(linear_term + fm_second_order + dnn_output)\n",
    "        return y\n",
    "\n",
    "# 示例参数\n",
    "field_dims = [10, 10, 10]  # 每个特征的不同取值个数\n",
    "model = DeepFM(field_dims, embed_dim=4, hidden_dims=[10, 10])\n",
    "\n",
    "# 假数据\n",
    "x = torch.randint(0, 10, (4, 3))  # batch_size=4, num_features_per_sample=3\n",
    "y = model(x)\n",
    "print(y)"
   ],
   "id": "1ac75315f439aab4",
   "outputs": [
    {
     "name": "stdout",
     "output_type": "stream",
     "text": [
      "tensor([[0.9826],\n",
      "        [0.9417],\n",
      "        [0.8813],\n",
      "        [0.9467]], grad_fn=<SigmoidBackward0>)\n"
     ]
    }
   ],
   "execution_count": 6
  },
  {
   "metadata": {},
   "cell_type": "code",
   "outputs": [],
   "execution_count": null,
   "source": "",
   "id": "19468c858f29064b"
  }
 ],
 "metadata": {
  "kernelspec": {
   "display_name": "Python 3",
   "language": "python",
   "name": "python3"
  },
  "language_info": {
   "codemirror_mode": {
    "name": "ipython",
    "version": 2
   },
   "file_extension": ".py",
   "mimetype": "text/x-python",
   "name": "python",
   "nbconvert_exporter": "python",
   "pygments_lexer": "ipython2",
   "version": "2.7.6"
  }
 },
 "nbformat": 4,
 "nbformat_minor": 5
}
